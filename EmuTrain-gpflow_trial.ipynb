{
 "cells": [
  {
   "cell_type": "code",
   "execution_count": 21,
   "metadata": {},
   "outputs": [],
   "source": [
    "\"\"\"\n",
    "GP emulation\n",
    "\"\"\"\n",
    "##### Packages ###############\n",
    "import numpy as np  \n",
    "import matplotlib.pylab as plt\n",
    "import time\n",
    "import pickle\n",
    "import os\n",
    "from sklearn.decomposition import PCA\n",
    "# import GPy\n",
    "import matplotlib.ticker as ticker\n",
    "import gpflow\n"
   ]
  },
  {
   "cell_type": "code",
   "execution_count": 22,
   "metadata": {},
   "outputs": [],
   "source": [
    "############################# PARAMETERS ##############################\n",
    "\n",
    "dataDir = \"./Data/\" ## Data folder\n",
    "modelDir = \"./Models/\" ## Data folder\n",
    "plotsDir = \"./Plots/\" ## Data folder\n",
    "\n",
    "nRankMax = [2, 4, 8, 12, 16, 32][4]  ## Number of basis vectors in truncated PCA\n",
    "## Increasing nRankMax will increase emulation precision (asymptotically), but reduce the speed\n",
    "\n",
    "# del_idx = [5, 25, 4, 42]  ## Random holdouts (not used in training, reserved for validation) \n",
    "# del_idx = [11, 17, 20, 37, 46]  ## Random holdouts (not used in training, reserved for validation) \n",
    "# del_idx = [11, 5, 4, 42]  ## Random holdouts (not used in training, reserved for validation) \n",
    "del_idx = []  ## Random holdouts (not used in training, reserved for validation) \n",
    "\n",
    "# 11, 17, 20, 37, 46, \n",
    "# DONOT use these: (array([22, 15, 19, 20, 35]), array([27, 34, 30, 29, 14])) -- edge cases\n",
    "snap_ID = 47\n",
    "\n",
    "\n",
    "############################# PARAMETERS ##############################\n",
    "\n",
    "dataDir = \"./Data/Emulator213bins/\" ## Data folder\n",
    "fileIn = dataDir + 'ratiosbins_' + str(snap_ID) + '.txt'\n",
    "\n",
    "\n",
    "\n",
    "paramIn = dataDir + 'mg.design'\n",
    "# fileIn = dataDir + ['ratios.txt', 'PMG.txt'][0]\n",
    "\n",
    "\n",
    "\n",
    "# plotsDir = \"./Plots/\" ## Data folder\n",
    "# dataDir = \"./Data/Emulator_data/\" ## Data folder\n",
    "# dataDir = \"./Data/Emulator213bins/\" ## Data folder\n",
    "\n",
    "# paramIn = dataDir + 'mg.design'  ## parameter file\n",
    "\n",
    "\n",
    "\n",
    "az = np.loadtxt(dataDir + 'timestepsCOLA.txt', skiprows=1) \n",
    "fileIn = dataDir + 'ratiosbins_' + str(snap_ID) + '.txt'\n",
    "### GPmodel = modelDir + 'a89003GPflow_model_213Smooth_rank' + str(nRankMax) + 'snap' + str(snap_ID)  ## Double and single quotes are necessary\n",
    "# GPmodel = modelDir + 'a89004GPflow_model_213Smooth_rank' + str(nRankMax) + 'snap' + str(snap_ID)  ## Double and single quotes are necessary\n",
    "# GPmodel = modelDir + '118GP_smooth_rank' + str(nRankMax) + 'snap' + str(snap_ID)  ## Double and single quotes are necessary\n",
    "# PCAmodel = modelDir + '118PCA_smooth_rank' + str(nRankMax) + 'snap' + str(snap_ID)  ## Double and single quotes are necessary\n",
    "\n",
    "# print(GPmodel)\n",
    "################################# I/O #################################\n"
   ]
  },
  {
   "cell_type": "code",
   "execution_count": 23,
   "metadata": {},
   "outputs": [],
   "source": [
    "loadFile = np.loadtxt(fileIn)\n",
    "PmPl_all = loadFile[:, 1:].T\n",
    "kvals = loadFile[:,0]\n",
    "\n",
    "\n",
    "parameter_array_all = np.loadtxt(paramIn)\n",
    "\n",
    "\n",
    "# ############## rescaling ##############\n",
    "\n",
    "\n",
    "# def rescale01(f):\n",
    "#     return np.min(f), np.max(f), (f - np.min(f)) / (np.max(f) - np.min(f))\n",
    "\n",
    "\n",
    "# lhd = np.zeros_like(parameter_array_all)\n",
    "# for i in range(parameter_array_all.shape[1]):\n",
    "#     _, _, lhd[:, i] = rescale01(parameter_array_all[:, i])\n",
    "   \n",
    "\n",
    "# parameter_array_all = lhd\n",
    "\n",
    "# # _,_,PmPl_all = rescale01(loadFile[:, 1:].T)\n",
    "\n",
    "\n",
    "\n",
    "\n",
    "\n",
    "\n",
    "\n",
    "\n",
    "\n",
    "############## rescaling ##############\n",
    "\n",
    "\n",
    "def rescale01(f):\n",
    "    return np.min(f), np.max(f), (f - np.min(f)) / (np.max(f) - np.min(f))\n",
    "\n",
    "\n",
    "def scale01(fmin, fmax, f):\n",
    "    return (f - fmin) / (fmax - fmin)\n",
    "#     return f*(fmax - fmin) + fmin\n",
    "\n",
    "\n",
    "lhd = np.zeros_like(parameter_array_all)\n",
    "lhdmin = np.zeros_like(parameter_array_all[1])\n",
    "lhdmax = np.zeros_like(parameter_array_all[1])\n",
    "\n",
    "for i in range(parameter_array_all.shape[1]):\n",
    "    lhdmin[i], lhdmax[i], lhd[:, i] = rescale01(parameter_array_all[:, i])\n",
    "   \n",
    "\n",
    "parameter_array_all = lhd\n",
    "np.savetxt(dataDir+'paralims.txt', np.array([lhdmin, lhdmax]))\n",
    "\n",
    "\n",
    "############## rescaling ##############\n",
    "\n",
    "\n",
    "## Removing hold-out test points\n",
    "parameter_array = np.delete(parameter_array_all, del_idx, axis=0)\n",
    "PmPl = np.delete(PmPl_all, del_idx, axis=0)\n",
    "\n"
   ]
  },
  {
   "cell_type": "code",
   "execution_count": 24,
   "metadata": {},
   "outputs": [
    {
     "name": "stdout",
     "output_type": "stream",
     "text": "[22 15 19 20 35] [27 34 30 29 14]\n(array([20]),)\n(array([11, 17, 20, 37, 46]),)\n"
    }
   ],
   "source": [
    "orig_param = np.loadtxt(paramIn)\n",
    "print(np.argmin(orig_param, axis=0), np.argmax(orig_param, axis=0))\n",
    "print(np.where(orig_param[:,3] == orig_param[:,3].min()))\n",
    "print(np.where(orig_param[:, 3] < 1e-5))"
   ]
  },
  {
   "cell_type": "code",
   "execution_count": 25,
   "metadata": {},
   "outputs": [
    {
     "data": {
      "text/plain": "array([1.2e-01, 8.5e-01, 7.0e-01, 1.0e-08, 0.0e+00])"
     },
     "execution_count": 25,
     "metadata": {},
     "output_type": "execute_result"
    }
   ],
   "source": [
    "np.min(np.loadtxt(paramIn), axis=0)"
   ]
  },
  {
   "cell_type": "code",
   "execution_count": 26,
   "metadata": {},
   "outputs": [
    {
     "data": {
      "text/plain": "array([1.55e-01, 1.05e+00, 9.00e-01, 1.00e-04, 4.00e+00])"
     },
     "execution_count": 26,
     "metadata": {},
     "output_type": "execute_result"
    }
   ],
   "source": [
    "np.max(np.loadtxt(paramIn), axis=0)"
   ]
  },
  {
   "cell_type": "code",
   "execution_count": 27,
   "metadata": {},
   "outputs": [],
   "source": [
    "# np.savetxt(dataDir+'kvals.txt', kvals)"
   ]
  },
  {
   "cell_type": "code",
   "execution_count": 28,
   "metadata": {},
   "outputs": [],
   "source": [
    "lhdmin, lhdmax = np.loadtxt(dataDir + 'paralims.txt')"
   ]
  },
  {
   "cell_type": "code",
   "execution_count": 29,
   "metadata": {},
   "outputs": [],
   "source": [
    "#### adding smoothing filter ########\n",
    "\n",
    "import scipy.signal\n",
    "yhat = scipy.signal.savgol_filter(PmPl[:,:], 51, 3) # window size 51, polynomial order 3\n",
    "y_train = yhat\n",
    "\n",
    "####################################"
   ]
  },
  {
   "cell_type": "code",
   "execution_count": 30,
   "metadata": {},
   "outputs": [],
   "source": [
    "# yhat == y_train"
   ]
  },
  {
   "cell_type": "code",
   "execution_count": 31,
   "metadata": {},
   "outputs": [],
   "source": [
    "# import scipy.signal\n",
    "\n",
    "# yhat = scipy.signal.savgol_filter(y_train, 51, 3) # window size 51, polynomial order 3\n",
    "\n",
    "\n",
    "# plt.figure(121, (14,10))\n",
    "# plt.plot( np.array(y_train).T[:,0:10], 'x')\n",
    "# plt.plot( np.array(yhat).T[:,0:10], '--')\n",
    "# plt.yscale('log')"
   ]
  },
  {
   "cell_type": "code",
   "execution_count": 32,
   "metadata": {},
   "outputs": [],
   "source": [
    "############################# Plot the input parameter distribution ##############################\n",
    "\n",
    "allLabels = [r'${\\Omega}_m$', r'$n_s$', r'${\\sigma}_8$', r'$f_{R_0}$', r'$n$']\n",
    "\n",
    "\n",
    "lhd = np.zeros_like(parameter_array_all)\n",
    "for i in range(parameter_array_all.shape[1]):\n",
    "    _,_,lhd[:, i] = rescale01(parameter_array_all[:, i])\n",
    "    \n",
    "def plot_params(lhd):\n",
    "    f, a = plt.subplots(lhd.shape[1], lhd.shape[1], sharex=True, sharey=True, figsize=(10, 10) )\n",
    "    plt.suptitle('lhc design (rescaled parameters)', fontsize = 28)\n",
    "    plt.subplots_adjust(left=None, bottom=None, right=None, top=None, wspace=None, hspace=None)\n",
    "    plt.rcParams.update({'font.size': 8})\n",
    "\n",
    "    for i in range(lhd.shape[1]):\n",
    "        for j in range(i + 1):\n",
    "            # print(i, j)\n",
    "            if (i != j):\n",
    "                a[i, j].scatter(lhd[:, i], lhd[:, j], s=5)\n",
    "                a[i, j].grid(True)\n",
    "            else:\n",
    "                hist, bin_edges = np.histogram(lhd[:, i], density=True, bins=64)\n",
    "                a[i, i].text(0.4, 0.4, allLabels[i], size = 'xx-large')\n",
    "\n",
    "                a[i, i].bar(bin_edges[:-1], hist / hist.max(), width=0.2, alpha = 0.1)\n",
    "\n",
    "\n",
    "    plt.show()\n",
    "\n",
    "\n",
    "# plot_params(lhd)"
   ]
  },
  {
   "cell_type": "code",
   "execution_count": 33,
   "metadata": {},
   "outputs": [],
   "source": [
    "########################### PCA ###################################\n",
    "# set up pca compression\n",
    "from sklearn.decomposition import PCA\n",
    "\n",
    "\n",
    "def PCA_compress(x, nComp):\n",
    "    # x is in shape (nparams, nbins)\n",
    "    pca_model = PCA(n_components=nComp)\n",
    "    principalComponents = pca_model.fit_transform(x)\n",
    "    pca_bases = pca_model.components_\n",
    "\n",
    "    print(\"original shape:   \", x.shape)\n",
    "    print(\"transformed shape:\", principalComponents.shape)\n",
    "    print(\"bases shape:\", pca_bases.shape)\n",
    "\n",
    "    # import pickle\n",
    "    # pickle.dump(pca_model, open(PCAmodel, 'wb'))\n",
    "\n",
    "    return pca_model, np.array(principalComponents), np.array(pca_bases)\n",
    "\n",
    "\n",
    "######################## GP FITTING ################################\n",
    "\n",
    "## Build GP models\n",
    "# This is evaluated only once for the file name. GP fitting is not required if the file exists.\n",
    "  \n",
    "\n",
    "def GPflow_fit(parameter_array, weights):\n",
    "    kern = gpflow.kernels.Matern52(input_dim = np.shape(parameter_array)[1])#, ARD=True)\n",
    "    kern = gpflow.kernels.RBF(input_dim = np.shape(parameter_array)[1], ARD=True)\n",
    "#     m1 = GPy.models.GPRegression(parameter_array, weights, kernel=kern)\n",
    "    m = gpflow.models.GPR(parameter_array, weights, kern=kern, mean_function=None)\n",
    "#     print_summary(m)\n",
    "    # m.likelihood.variance.assign(0.01)\n",
    "    m.likelihood.variance.assign(0.0001)\n",
    "\n",
    "##     m.kern.lengthscales.assign([0.3, 0.1, 0.2, 0.3, 0.1])\n",
    "    # m.kern.lengthscales.assign([25, 65, 15 ,1, 1])\n",
    "    \n",
    "    opt = gpflow.train.ScipyOptimizer()\n",
    "    opt.minimize(m)\n",
    "    m.as_pandas_table()\n",
    "    \n",
    "    from pathlib import Path\n",
    "\n",
    "    print(f'GPR lengthscales =', m.kern.lengthscales.value)\n",
    "\n",
    "    \n",
    "    # path = Path(GPmodel)\n",
    "    # if path.exists():\n",
    "    #     path.unlink()\n",
    "    \n",
    "    # saver = gpflow.saver.Saver()\n",
    "    # saver.save(fname, m)\n",
    "    return m\n",
    "    \n",
    "\n"
   ]
  },
  {
   "cell_type": "code",
   "execution_count": 34,
   "metadata": {},
   "outputs": [],
   "source": [
    "######################## GP PREDICTION FUNCTIONS ###############################\n",
    "\n",
    "\n",
    "def GPy_predict(para_array):\n",
    "    m1p = m1.predict_f(para_array)  # [0] is the mean and [1] the predictive\n",
    "    W_predArray = m1p[0]\n",
    "    W_varArray = m1p[1]\n",
    "    return W_predArray, W_varArray\n",
    "\n",
    "\n",
    "def Emu(para_array):\n",
    "    if len(para_array.shape) == 1:\n",
    "        W_predArray, _ = GPy_predict(np.expand_dims(para_array, axis=0))\n",
    "        x_decoded = pca_model.inverse_transform(W_predArray)\n",
    "        return np.squeeze(x_decoded)#[0]\n",
    "\n",
    "def EmuPlusMinus(para_array):\n",
    "    if len(para_array.shape) == 1:\n",
    "        W_predArray, W_varArray = GPy_predict(np.expand_dims(para_array, axis=0))\n",
    "        x_decoded = pca_model.inverse_transform(W_predArray)\n",
    "        x_decoded_plus = pca_model.inverse_transform(W_predArray + np.sqrt(W_varArray))\n",
    "        x_decoded_minus = pca_model.inverse_transform(W_predArray - np.sqrt(W_varArray))\n",
    "        return np.squeeze(x_decoded), np.squeeze(x_decoded_plus), np.squeeze(x_decoded_minus)\n"
   ]
  },
  {
   "cell_type": "code",
   "execution_count": 35,
   "metadata": {},
   "outputs": [],
   "source": [
    "# def resclaePkrow(y):\n",
    "#     ydiv = np.max(y_train, axis=0) - np.min(y_train, axis=0)\n",
    "#     ysub = np.min(y_train, axis=0)\n",
    "#     y_rescaled = (y_train - ysub)/ydiv\n",
    "#     return ydiv, ysub, y_rescaled\n",
    "#     # (y_train - np.min(y_train, axis=1))/(y_train - np.min(y_train, axis=1))\n",
    "\n",
    "# def resclaePk(y):\n",
    "#     ydiv = np.max(y_train) - np.min(y_train)\n",
    "#     ysub = np.min(y_train)\n",
    "#     y_rescaled = (y_train - ysub)/ydiv\n",
    "#     return ydiv, ysub, y_rescaled\n",
    "#     # (y_train - np.min(y_train, axis=1))/(y_train - np.min(y_train, axis=1))\n",
    "\n",
    "# def unscalePk(y_rescaled, ydiv, ysub):\n",
    "#     y = (y_rescaled*ydiv) + ysub\n",
    "#     return y\n",
    "\n",
    "\n",
    "# ydiv, ysub, y_train = resclaePk(y_train)\n",
    "\n",
    "y_train = np.log10(y_train)"
   ]
  },
  {
   "cell_type": "code",
   "execution_count": 36,
   "metadata": {},
   "outputs": [
    {
     "name": "stdout",
     "output_type": "stream",
     "text": "6, in <module>\n    app.launch_new_instance()  File \"/Users/nramachandra/anaconda3/envs/env_py37/lib/python3.7/site-packages/traitlets/config/application.py\", line 664, in launch_instance\n    app.start()  File \"/Users/nramachandra/anaconda3/envs/env_py37/lib/python3.7/site-packages/ipykernel/kernelapp.py\", line 563, in start\n    self.io_loop.start()  File \"/Users/nramachandra/anaconda3/envs/env_py37/lib/python3.7/site-packages/tornado/platform/asyncio.py\", line 148, in start\n    self.asyncio_loop.run_forever()  File \"/Users/nramachandra/anaconda3/envs/env_py37/lib/python3.7/asyncio/base_events.py\", line 534, in run_forever\n    self._run_once()  File \"/Users/nramachandra/anaconda3/envs/env_py37/lib/python3.7/asyncio/base_events.py\", line 1771, in _run_once\n    handle._run()  File \"/Users/nramachandra/anaconda3/envs/env_py37/lib/python3.7/asyncio/events.py\", line 88, in _run\n    self._context.run(self._callback, *self._args)  File \"/Users/nramachandra/anaconda3/envs/env_py37/lib/python3.7/site-packages/tornado/ioloop.py\", line 690, in <lambda>\n    lambda f: self._run_callback(functools.partial(callback, future))  File \"/Users/nramachandra/anaconda3/envs/env_py37/lib/python3.7/site-packages/tornado/ioloop.py\", line 743, in _run_callback\n    ret = callback()  File \"/Users/nramachandra/anaconda3/envs/env_py37/lib/python3.7/site-packages/tornado/gen.py\", line 787, in inner\n    self.run()  File \"/Users/nramachandra/anaconda3/envs/env_py37/lib/python3.7/site-packages/tornado/gen.py\", line 748, in run\n    yielded = self.gen.send(value)  File \"/Users/nramachandra/anaconda3/envs/env_py37/lib/python3.7/site-packages/ipykernel/kernelbase.py\", line 377, in dispatch_queue\n    yield self.process_one()  File \"/Users/nramachandra/anaconda3/envs/env_py37/lib/python3.7/site-packages/tornado/gen.py\", line 225, in wrapper\n    runner = Runner(result, future, yielded)  File \"/Users/nramachandra/anaconda3/envs/env_py37/lib/python3.7/site-packages/tornado/gen.py\", line 714, in __init__\n    self.run()  File \"/Users/nramachandra/anaconda3/envs/env_py37/lib/python3.7/site-packages/tornado/gen.py\", line 748, in run\n    yielded = self.gen.send(value)  File \"/Users/nramachandra/anaconda3/envs/env_py37/lib/python3.7/site-packages/ipykernel/kernelbase.py\", line 361, in process_one\n    yield gen.maybe_future(dispatch(*args))  File \"/Users/nramachandra/anaconda3/envs/env_py37/lib/python3.7/site-packages/tornado/gen.py\", line 209, in wrapper\n    yielded = next(result)  File \"/Users/nramachandra/anaconda3/envs/env_py37/lib/python3.7/site-packages/ipykernel/kernelbase.py\", line 268, in dispatch_shell\n    yield gen.maybe_future(handler(stream, idents, msg))  File \"/Users/nramachandra/anaconda3/envs/env_py37/lib/python3.7/site-packages/tornado/gen.py\", line 209, in wrapper\n    yielded = next(result)  File \"/Users/nramachandra/anaconda3/envs/env_py37/lib/python3.7/site-packages/ipykernel/kernelbase.py\", line 541, in execute_request\n    user_expressions, allow_stdin,  File \"/Users/nramachandra/anaconda3/envs/env_py37/lib/python3.7/site-packages/tornado/gen.py\", line 209, in wrapper\n    yielded = next(result)  File \"/Users/nramachandra/anaconda3/envs/env_py37/lib/python3.7/site-packages/ipykernel/ipkernel.py\", line 300, in do_execute\n    res = shell.run_cell(code, store_history=store_history, silent=silent)  File \"/Users/nramachandra/anaconda3/envs/env_py37/lib/python3.7/site-packages/ipykernel/zmqshell.py\", line 536, in run_cell\n    return super(ZMQInteractiveShell, self).run_cell(*args, **kwargs)  File \"/Users/nramachandra/anaconda3/envs/env_py37/lib/python3.7/site-packages/IPython/core/interactiveshell.py\", line 2848, in run_cell\n    raw_cell, store_history, silent, shell_futures)  File \"/Users/nramachandra/anaconda3/envs/env_py37/lib/python3.7/site-packages/IPython/core/interactiveshell.py\", line 2874, in _run_cell\n    return runner(coro)  File \"/Users/nramachandra/anaconda3/envs/env_py37/lib/python3.7/site-packages/IPython/core/async_helpers.py\", line 68, in _pseudo_sync_runner\n    coro.send(None)  File \"/Users/nramachandra/anaconda3/envs/env_py37/lib/python3.7/site-packages/IPython/core/interactiveshell.py\", line 3051, in run_cell_async\n    interactivity=interactivity, compiler=compiler, result=result)  File \"/Users/nramachandra/anaconda3/envs/env_py37/lib/python3.7/site-packages/IPython/core/interactiveshell.py\", line 3242, in run_ast_nodes\n    if (await self.run_code(code, result,  async_=asy)):  File \"/Users/nramachandra/anaconda3/envs/env_py37/lib/python3.7/site-packages/IPython/core/interactiveshell.py\", line 3319, in run_code\n    exec(code_obj, self.user_global_ns, self.user_ns)  File \"<ipython-input-36-3ee02a6dc108>\", line 9, in <module>\n    m1 = GPflow_fit(parameter_array, pca_weights)  File \"<ipython-input-33-7d3bdc60eeba>\", line 32, in GPflow_fit\n    m = gpflow.models.GPR(parameter_array, weights, kern=kern, mean_function=None)  File \"</Users/nramachandra/anaconda3/envs/env_py37/lib/python3.7/site-packages/decorator.py:decorator-gen-135>\", line 2, in __init__  File \"/Users/nramachandra/anaconda3/envs/env_py37/lib/python3.7/site-packages/gpflow/core/compilable.py\", line 157, in init_wrapper\n    self.initialize(force=True)  File \"/Users/nramachandra/anaconda3/envs/env_py37/lib/python3.7/site-packages/gpflow/core/node.py\", line 156, in build\n    self._build()  File \"/Users/nramachandra/anaconda3/envs/env_py37/lib/python3.7/site-packages/gpflow/params/parameterized.py\", line 302, in _build\n    self._prior_tensor = self._build_prior(priors)  File \"/Users/nramachandra/anaconda3/envs/env_py37/lib/python3.7/site-packages/gpflow/core/node.py\", line 156, in build\n    self._build()  File \"/Users/nramachandra/anaconda3/envs/env_py37/lib/python3.7/site-packages/gpflow/params/parameter.py\", line 373, in _build\n    self._prior_tensor = prior  File \"/Users/nramachandra/anaconda3/envs/env_py37/lib/python3.7/site-packages/tensorflow/python/util/tf_should_use.py\", line 193, in wrapped\n    return _add_should_use_warning(fn(*args, **kwargs))\n==================================\nERROR:tensorflow:==================================\nObject was never used (type <class 'tensorflow.python.framework.ops.Tensor'>):\n<tf.Tensor 'Matern52-cc99d041-10/variance/IsVariableInitialized:0' shape=() dtype=bool>\nIf you want to mark it as used call its \"mark_used()\" method.\nIt was originally created here:\n  File \"/Users/nramachandra/anaconda3/envs/env_py37/lib/python3.7/runpy.py\", line 193, in _run_module_as_main\n    \"__main__\", mod_spec)  File \"/Users/nramachandra/anaconda3/envs/env_py37/lib/python3.7/runpy.py\", line 85, in _run_code\n    exec(code, run_globals)  File \"/Users/nramachandra/anaconda3/envs/env_py37/lib/python3.7/site-packages/ipykernel_launcher.py\", line 16, in <module>\n    app.launch_new_instance()  File \"/Users/nramachandra/anaconda3/envs/env_py37/lib/python3.7/site-packages/traitlets/config/application.py\", line 664, in launch_instance\n    app.start()  File \"/Users/nramachandra/anaconda3/envs/env_py37/lib/python3.7/site-packages/ipykernel/kernelapp.py\", line 563, in start\n    self.io_loop.start()  File \"/Users/nramachandra/anaconda3/envs/env_py37/lib/python3.7/site-packages/tornado/platform/asyncio.py\", line 148, in start\n    self.asyncio_loop.run_forever()  File \"/Users/nramachandra/anaconda3/envs/env_py37/lib/python3.7/asyncio/base_events.py\", line 534, in run_forever\n    self._run_once()  File \"/Users/nramachandra/anaconda3/envs/env_py37/lib/python3.7/asyncio/base_events.py\", line 1771, in _run_once\n    handle._run()  File \"/Users/nramachandra/anaconda3/envs/env_py37/lib/python3.7/asyncio/events.py\", line 88, in _run\n    self._context.run(self._callback, *self._args)  File \"/Users/nramachandra/anaconda3/envs/env_py37/lib/python3.7/site-packages/tornado/ioloop.py\", line 690, in <lambda>\n    lambda f: self._run_callback(functools.partial(callback, future))  File \"/Users/nramachandra/anaconda3/envs/env_py37/lib/python3.7/site-packages/tornado/ioloop.py\", line 743, in _run_callback\n    ret = callback()  File \"/Users/nramachandra/anaconda3/envs/env_py37/lib/python3.7/site-packages/tornado/gen.py\", line 787, in inner\n    self.run()  File \"/Users/nramachandra/anaconda3/envs/env_py37/lib/python3.7/site-packages/tornado/gen.py\", line 748, in run\n    yielded = self.gen.send(value)  File \"/Users/nramachandra/anaconda3/envs/env_py37/lib/python3.7/site-packages/ipykernel/kernelbase.py\", line 377, in dispatch_queue\n    yield self.process_one()  File \"/Users/nramachandra/anaconda3/envs/env_py37/lib/python3.7/site-packages/tornado/gen.py\", line 225, in wrapper\n    runner = Runner(result, future, yielded)  File \"/Users/nramachandra/anaconda3/envs/env_py37/lib/python3.7/site-packages/tornado/gen.py\", line 714, in __init__\n    self.run()  File \"/Users/nramachandra/anaconda3/envs/env_py37/lib/python3.7/site-packages/tornado/gen.py\", line 748, in run\n    yielded = self.gen.send(value)  File \"/Users/nramachandra/anaconda3/envs/env_py37/lib/python3.7/site-packages/ipykernel/kernelbase.py\", line 361, in process_one\n    yield gen.maybe_future(dispatch(*args))  File \"/Users/nramachandra/anaconda3/envs/env_py37/lib/python3.7/site-packages/tornado/gen.py\", line 209, in wrapper\n    yielded = next(result)  File \"/Users/nramachandra/anaconda3/envs/env_py37/lib/python3.7/site-packages/ipykernel/kernelbase.py\", line 268, in dispatch_shell\n    yield gen.maybe_future(handler(stream, idents, msg))  File \"/Users/nramachandra/anaconda3/envs/env_py37/lib/python3.7/site-packages/tornado/gen.py\", line 209, in wrapper\n    yielded = next(result)  File \"/Users/nramachandra/anaconda3/envs/env_py37/lib/python3.7/site-packages/ipykernel/kernelbase.py\", line 541, in execute_request\n    user_expressions, allow_stdin,  File \"/Users/nramachandra/anaconda3/envs/env_py37/lib/python3.7/site-packages/tornado/gen.py\", line 209, in wrapper\n    yielded = next(result)  File \"/Users/nramachandra/anaconda3/envs/env_py37/lib/python3.7/site-packages/ipykernel/ipkernel.py\", line 300, in do_execute\n    res = shell.run_cell(code, store_history=store_history, silent=silent)  File \"/Users/nramachandra/anaconda3/envs/env_py37/lib/python3.7/site-packages/ipykernel/zmqshell.py\", line 536, in run_cell\n    return super(ZMQInteractiveShell, self).run_cell(*args, **kwargs)  File \"/Users/nramachandra/anaconda3/envs/env_py37/lib/python3.7/site-packages/IPython/core/interactiveshell.py\", line 2848, in run_cell\n    raw_cell, store_history, silent, shell_futures)  File \"/Users/nramachandra/anaconda3/envs/env_py37/lib/python3.7/site-packages/IPython/core/interactiveshell.py\", line 2874, in _run_cell\n    return runner(coro)  File \"/Users/nramachandra/anaconda3/envs/env_py37/lib/python3.7/site-packages/IPython/core/async_helpers.py\", line 68, in _pseudo_sync_runner\n    coro.send(None)  File \"/Users/nramachandra/anaconda3/envs/env_py37/lib/python3.7/site-packages/IPython/core/interactiveshell.py\", line 3051, in run_cell_async\n    interactivity=interactivity, compiler=compiler, result=result)  File \"/Users/nramachandra/anaconda3/envs/env_py37/lib/python3.7/site-packages/IPython/core/interactiveshell.py\", line 3242, in run_ast_nodes\n    if (await self.run_code(code, result,  async_=asy)):  File \"/Users/nramachandra/anaconda3/envs/env_py37/lib/python3.7/site-packages/IPython/core/interactiveshell.py\", line 3319, in run_code\n    exec(code_obj, self.user_global_ns, self.user_ns)  File \"<ipython-input-36-3ee02a6dc108>\", line 9, in <module>\n    m1 = GPflow_fit(parameter_array, pca_weights)  File \"<ipython-input-33-7d3bdc60eeba>\", line 32, in GPflow_fit\n    m = gpflow.models.GPR(parameter_array, weights, kern=kern, mean_function=None)  File \"</Users/nramachandra/anaconda3/envs/env_py37/lib/python3.7/site-packages/decorator.py:decorator-gen-135>\", line 2, in __init__  File \"/Users/nramachandra/anaconda3/envs/env_py37/lib/python3.7/site-packages/gpflow/core/compilable.py\", line 157, in init_wrapper\n    self.initialize(force=True)  File \"/Users/nramachandra/anaconda3/envs/env_py37/lib/python3.7/site-packages/gpflow/core/node.py\", line 156, in build\n    self._build()  File \"/Users/nramachandra/anaconda3/envs/env_py37/lib/python3.7/site-packages/gpflow/params/parameterized.py\", line 302, in _build\n    self._prior_tensor = self._build_prior(priors)  File \"/Users/nramachandra/anaconda3/envs/env_py37/lib/python3.7/site-packages/gpflow/core/node.py\", line 156, in build\n    self._build()  File \"/Users/nramachandra/anaconda3/envs/env_py37/lib/python3.7/site-packages/gpflow/params/parameter.py\", line 373, in _build\n    self._prior_tensor = prior  File \"/Users/nramachandra/anaconda3/envs/env_py37/lib/python3.7/site-packages/tensorflow/python/util/tf_should_use.py\", line 193, in wrapped\n    return _add_should_use_warning(fn(*args, **kwargs))\n==================================\nERROR:tensorflow:==================================\nObject was never used (type <class 'tensorflow.python.framework.ops.Tensor'>):\n<tf.Tensor 'Matern52-cc99d041-10/variance/IsVariableInitialized:0' shape=() dtype=bool>\nIf you want to mark it as used call its \"mark_used()\" method.\nIt was originally created here:\n  File \"/Users/nramachandra/anaconda3/envs/env_py37/lib/python3.7/runpy.py\", line 193, in _run_module_as_main\n    \"__main__\", mod_spec)  File \"/Users/nramachandra/anaconda3/envs/env_py37/lib/python3.7/runpy.py\", line 85, in _run_code\n    exec(code, run_globals)  File \"/Users/nramachandra/anaconda3/envs/env_py37/lib/python3.7/site-packages/ipykernel_launcher.py\", line 16, in <module>\n    app.launch_new_instance()  File \"/Users/nramachandra/anaconda3/envs/env_py37/lib/python3.7/site-packages/traitlets/config/application.py\", line 664, in launch_instance\n    app.start()  File \"/Users/nramachandra/anaconda3/envs/env_py37/lib/python3.7/site-packages/ipykernel/kernelapp.py\", line 563, in start\n    self.io_loop.start()  File \"/Users/nramachandra/anaconda3/envs/env_py37/lib/python3.7/site-packages/tornado/platform/asyncio.py\", line 148, in start\n    self.asyncio_loop.run_forever()  File \"/Users/nramachandra/anaconda3/envs/env_py37/lib/python3.7/asyncio/base_events.py\", line 534, in run_forever\n    self._run_once()  File \"/Users/nramachandra/anaconda3/envs/env_py37/lib/python3.7/asyncio/base_events.py\", line 1771, in _run_once\n    handle._run()  File \"/Users/nramachandra/anaconda3/envs/env_py37/lib/python3.7/asyncio/events.py\", line 88, in _run\n    self._context.run(self._callback, *self._args)  File \"/Users/nramachandra/anaconda3/envs/env_py37/lib/python3.7/site-packages/tornado/ioloop.py\", line 690, in <lambda>\n    lambda f: self._run_callback(functools.partial(callback, future))  File \"/Users/nramachandra/anaconda3/envs/env_py37/lib/python3.7/site-packages/tornado/ioloop.py\", line 743, in _run_callback\n    ret = callback()  File \"/Users/nramachandra/anaconda3/envs/env_py37/lib/python3.7/site-packages/tornado/gen.py\", line 787, in inner\n    self.run()  File \"/Users/nramachandra/anaconda3/envs/env_py37/lib/python3.7/site-packages/tornado/gen.py\", line 748, in run\n    yielded = self.gen.send(value)  File \"/Users/nramachandra/anaconda3/envs/env_py37/lib/python3.7/site-packages/ipykernel/kernelbase.py\", line 377, in dispatch_queue\n    yield self.process_one()  File \"/Users/nramachandra/anaconda3/envs/env_py37/lib/python3.7/site-packages/tornado/gen.py\", line 225, in wrapper\n    runner = Runner(result, future, yielded)  File \"/Users/nramachandra/anaconda3/envs/env_py37/lib/python3.7/site-packages/tornado/gen.py\", line 714, in __init__\n    self.run()  File \"/Users/nramachandra/anaconda3/envs/env_py37/lib/python3.7/site-packages/tornado/gen.py\", line 748, in run\n    yielded = self.gen.send(value)  File \"/Users/nramachandra/anaconda3/envs/env_py37/lib/python3.7/site-packages/ipykernel/kernelbase.py\", line 361, in process_one\n    yield gen.maybe_future(dispatch(*args))  File \"/Users/nramachandra/anaconda3/envs/env_py37/lib/python3.7/site-packages/tornado/gen.py\", line 209, in wrapper\n    yielded = next(result)  File \"/Users/nramachandra/anaconda3/envs/env_py37/lib/python3.7/site-packages/ipykernel/kernelbase.py\", line 268, in dispatch_shell\n    yield gen.maybe_future(handler(stream, idents, msg))  File \"/Users/nramachandra/anaconda3/envs/env_py37/lib/python3.7/site-packages/tornado/gen.py\", line 209, in wrapper\n    yielded = next(result)  File \"/Users/nramachandra/anaconda3/envs/env_py37/lib/python3.7/site-packages/ipykernel/kernelbase.py\", line 541, in execute_request\n    user_expressions, allow_stdin,  File \"/Users/nramachandra/anaconda3/envs/env_py37/lib/python3.7/site-packages/tornado/gen.py\", line 209, in wrapper\n    yielded = next(result)  File \"/Users/nramachandra/anaconda3/envs/env_py37/lib/python3.7/site-packages/ipykernel/ipkernel.py\", line 300, in do_execute\n    res = shell.run_cell(code, store_history=store_history, silent=silent)  File \"/Users/nramachandra/anaconda3/envs/env_py37/lib/python3.7/site-packages/ipykernel/zmqshell.py\", line 536, in run_cell\n    return super(ZMQInteractiveShell, self).run_cell(*args, **kwargs)  File \"/Users/nramachandra/anaconda3/envs/env_py37/lib/python3.7/site-packages/IPython/core/interactiveshell.py\", line 2848, in run_cell\n    raw_cell, store_history, silent, shell_futures)  File \"/Users/nramachandra/anaconda3/envs/env_py37/lib/python3.7/site-packages/IPython/core/interactiveshell.py\", line 2874, in _run_cell\n    return runner(coro)  File \"/Users/nramachandra/anaconda3/envs/env_py37/lib/python3.7/site-packages/IPython/core/async_helpers.py\", line 68, in _pseudo_sync_runner\n    coro.send(None)  File \"/Users/nramachandra/anaconda3/envs/env_py37/lib/python3.7/site-packages/IPython/core/interactiveshell.py\", line 3051, in run_cell_async\n    interactivity=interactivity, compiler=compiler, result=result)  File \"/Users/nramachandra/anaconda3/envs/env_py37/lib/python3.7/site-packages/IPython/core/interactiveshell.py\", line 3242, in run_ast_nodes\n    if (await self.run_code(code, result,  async_=asy)):  File \"/Users/nramachandra/anaconda3/envs/env_py37/lib/python3.7/site-packages/IPython/core/interactiveshell.py\", line 3319, in run_code\n    exec(code_obj, self.user_global_ns, self.user_ns)  File \"<ipython-input-36-3ee02a6dc108>\", line 9, in <module>\n    m1 = GPflow_fit(parameter_array, pca_weights)  File \"<ipython-input-33-7d3bdc60eeba>\", line 32, in GPflow_fit\n    m = gpflow.models.GPR(parameter_array, weights, kern=kern, mean_function=None)  File \"</Users/nramachandra/anaconda3/envs/env_py37/lib/python3.7/site-packages/decorator.py:decorator-gen-135>\", line 2, in __init__  File \"/Users/nramachandra/anaconda3/envs/env_py37/lib/python3.7/site-packages/gpflow/core/compilable.py\", line 157, in init_wrapper\n    self.initialize(force=True)  File \"/Users/nramachandra/anaconda3/envs/env_py37/lib/python3.7/site-packages/gpflow/core/node.py\", line 156, in build\n    self._build()  File \"/Users/nramachandra/anaconda3/envs/env_py37/lib/python3.7/site-packages/gpflow/params/parameterized.py\", line 302, in _build\n    self._prior_tensor = self._build_prior(priors)  File \"/Users/nramachandra/anaconda3/envs/env_py37/lib/python3.7/site-packages/gpflow/core/node.py\", line 156, in build\n    self._build()  File \"/Users/nramachandra/anaconda3/envs/env_py37/lib/python3.7/site-packages/gpflow/params/parameter.py\", line 373, in _build\n    self._prior_tensor = prior  File \"/Users/nramachandra/anaconda3/envs/env_py37/lib/python3.7/site-packages/tensorflow/python/util/tf_should_use.py\", line 193, in wrapped\n    return _add_should_use_warning(fn(*args, **kwargs))\n==================================\nINFO:tensorflow:Optimization terminated with:\n  Message: b'CONVERGENCE: REL_REDUCTION_OF_F_<=_FACTR*EPSMCH'\n  Objective function value: -1921.231595\n  Number of iterations: 73\n  Number of functions evaluations: 86\nINFO:tensorflow:Optimization terminated with:\n  Message: b'CONVERGENCE: REL_REDUCTION_OF_F_<=_FACTR*EPSMCH'\n  Objective function value: -1921.231595\n  Number of iterations: 73\n  Number of functions evaluations: 86\nGPR lengthscales = [ 7.56571542 68.69999859 21.54942933  0.61955086  0.31111602]\n"
    }
   ],
   "source": [
    "# pca_model, pca_weights, pca_bases = PCA_compress(PmPl, nComp=nRankMax)\n",
    "pca_model, pca_weights, pca_bases = PCA_compress(y_train, nComp=nRankMax)\n",
    "\n",
    "print('----------------')\n",
    "print(parameter_array.shape)\n",
    "print(pca_weights.shape)\n",
    "print('----------------')\n",
    "\n",
    "m1 = GPflow_fit(parameter_array, pca_weights)"
   ]
  },
  {
   "cell_type": "code",
   "execution_count": 37,
   "metadata": {},
   "outputs": [
    {
     "data": {
      "text/plain": "(1.53476976, 0.99999813)"
     },
     "execution_count": 37,
     "metadata": {},
     "output_type": "execute_result"
    }
   ],
   "source": [
    "PmPl_all.max(), PmPl_all.min()"
   ]
  },
  {
   "cell_type": "code",
   "execution_count": 38,
   "metadata": {},
   "outputs": [
    {
     "name": "stdout",
     "output_type": "stream",
     "text": "[0.14, 1.0, 0.7, 1e-06, 1.0]\n[0.57142857 0.75       0.         0.00990099 0.25      ]\n"
    },
    {
     "data": {
      "image/png": "[encoded data removed]",
      "image/svg+xml": "<?xml version=\"1.0\" encoding=\"utf-8\" standalone=\"no\"?>\n<!DOCTYPE svg PUBLIC \"-//W3C//DTD SVG 1.1//EN\"\n  \"http://www.w3.org/Graphics/SVG/1.1/DTD/svg11.dtd\">\n<!-- Created with matplotlib (http://matplotlib.org/) -->\n<svg height=\"252.018125pt\" version=\"1.1\" viewBox=\"0 0 388.328125 252.018125\" width=\"388.328125pt\" xmlns=\"http://www.w3.org/2000/svg\" xmlns:xlink=\"http://www.w3.org/1999/xlink\">\n <defs>\n  <style type=\"text/css\">\n*{stroke-linecap:butt;stroke-linejoin:round;}\n  </style>\n </defs>\n <g id=\"figure_1\">\n  <g id=\"patch_1\">\n   <path d=\"M 0 252.018125 \nL 388.328125 252.018125 \nL 388.328125 0 \nL 0 0 \nz\n\" style=\"fill:none;\"/>\n  </g>\n  <g id=\"axes_1\">\n   <g id=\"patch_2\">\n    <path d=\"M 42.828125 228.14 \nL 377.628125 228.14 \nL 377.628125 10.7 \nL 42.828125 10.7 \nz\n\" style=\"fill:#ffffff;\"/>\n   </g>\n   <g id=\"PolyCollection_1\">\n    <path clip-path=\"url(#pca8211a9f3)\" d=\"M 58.046307 20.879311 \nL 58.046307 76.758491 \nL 59.199376 70.654452 \nL 60.095864 65.416034 \nL 60.834121 60.907596 \nL 61.485879 57.012405 \nL 62.105 53.630223 \nL 63.151669 50.675218 \nL 63.667043 48.074156 \nL 64.075575 45.76483 \nL 64.504007 43.694699 \nL 64.9534 41.8197 \nL 65.265084 40.103217 \nL 65.751536 38.51518 \nL 66.437169 37.031277 \nL 66.796701 35.632264 \nL 67.16782 34.303367 \nL 67.357802 33.033744 \nL 67.746964 31.816027 \nL 67.946233 30.645909 \nL 68.35441 29.521783 \nL 68.991398 28.444426 \nL 69.210567 27.416715 \nL 69.433273 26.443384 \nL 69.659518 25.5308 \nL 70.360186 24.686775 \nL 70.601201 23.920394 \nL 71.094906 23.881702 \nL 71.347773 26.238919 \nL 71.60462 26.959248 \nL 71.865536 23.746254 \nL 72.130696 20.583636 \nL 72.400102 22.614187 \nL 72.951828 22.196613 \nL 73.234324 28.949381 \nL 73.521331 26.725523 \nL 73.812937 26.553786 \nL 74.109231 28.970187 \nL 74.410212 30.122506 \nL 74.716058 32.322643 \nL 75.026769 36.080711 \nL 75.342432 38.196114 \nL 75.663137 34.771428 \nL 75.988972 36.643636 \nL 76.320113 38.934461 \nL 76.656473 47.297739 \nL 76.998139 50.289215 \nL 77.345378 52.289654 \nL 77.6981 59.989558 \nL 78.056571 61.566742 \nL 78.420703 67.056574 \nL 78.790584 71.51518 \nL 79.166479 73.502829 \nL 79.548388 76.246426 \nL 79.9364 77.821803 \nL 80.330515 78.511291 \nL 80.731087 77.839938 \nL 81.137938 78.744435 \nL 81.551334 91.533447 \nL 81.971363 91.473631 \nL 82.398115 100.158076 \nL 82.831677 100.038883 \nL 83.272137 99.091422 \nL 83.719673 102.591794 \nL 84.174374 99.346331 \nL 84.636327 93.006077 \nL 85.10562 91.000055 \nL 85.582521 80.822975 \nL 86.067027 76.453743 \nL 86.559229 79.18278 \nL 87.059302 88.134844 \nL 87.567423 85.801786 \nL 88.083594 86.670741 \nL 88.608078 80.383868 \nL 89.140964 82.863604 \nL 89.682342 83.732109 \nL 90.232387 78.473282 \nL 90.791188 87.931383 \nL 91.359011 89.102108 \nL 91.935855 83.127007 \nL 92.521897 76.876817 \nL 93.117315 75.321145 \nL 93.722285 77.472861 \nL 94.336984 76.703687 \nL 94.961412 79.791042 \nL 95.595834 76.29552 \nL 96.240428 84.732558 \nL 96.89537 76.576501 \nL 97.560748 77.936731 \nL 98.23674 77.703599 \nL 98.923611 85.314279 \nL 99.621449 84.29985 \nL 100.330431 83.704524 \nL 101.050735 88.062068 \nL 101.782536 93.391374 \nL 102.526101 93.815161 \nL 103.281517 86.480531 \nL 104.048962 92.354209 \nL 104.828789 98.590686 \nL 105.620999 91.460144 \nL 106.425857 84.73919 \nL 107.243716 95.722424 \nL 108.074577 93.881024 \nL 108.918705 96.502474 \nL 109.776364 94.639985 \nL 110.647733 92.151343 \nL 111.532988 94.935686 \nL 112.432395 89.543309 \nL 113.346306 86.349738 \nL 114.274723 72.834433 \nL 115.217998 77.582412 \nL 116.176398 77.680305 \nL 117.150099 71.888073 \nL 118.139366 64.508408 \nL 119.144465 67.755757 \nL 120.165573 76.57442 \nL 121.203132 80.20314 \nL 122.257141 89.069968 \nL 123.328133 93.195185 \nL 124.416194 97.964299 \nL 125.521679 82.174154 \nL 126.644765 76.882219 \nL 127.785894 78.455149 \nL 128.945243 77.766293 \nL 130.123077 73.023309 \nL 131.319838 74.306617 \nL 132.535704 64.667368 \nL 133.771028 66.487736 \nL 135.026075 58.747159 \nL 136.301199 49.773513 \nL 137.596666 42.292807 \nL 138.912918 39.481477 \nL 140.25022 31.131707 \nL 141.608838 26.691599 \nL 142.989301 31.231562 \nL 144.391699 32.606199 \nL 145.816651 22.751354 \nL 147.264333 24.97366 \nL 148.7351 25.699841 \nL 150.229482 27.963758 \nL 151.747744 42.774155 \nL 153.290241 58.082236 \nL 154.857413 52.50835 \nL 156.449705 49.415692 \nL 158.06738 56.843557 \nL 159.71097 63.202491 \nL 161.380829 77.684311 \nL 163.077309 77.060271 \nL 164.801031 74.687988 \nL 166.55226 86.97075 \nL 168.331526 95.239822 \nL 170.139272 112.832341 \nL 171.975851 95.728162 \nL 173.841882 89.580536 \nL 175.73772 86.889463 \nL 177.663806 88.410715 \nL 179.62076 80.420493 \nL 181.609024 78.581463 \nL 183.62904 73.35403 \nL 185.681338 102.297627 \nL 187.766538 94.998142 \nL 189.884995 105.815993 \nL 192.037414 105.417194 \nL 194.22415 122.511854 \nL 196.445911 119.167099 \nL 198.703227 121.548617 \nL 200.996629 105.940006 \nL 203.326648 113.371476 \nL 205.69399 97.248845 \nL 208.0991 91.172321 \nL 210.542771 78.285357 \nL 213.025448 89.623284 \nL 215.547836 88.431275 \nL 218.110556 102.154065 \nL 220.714314 104.401171 \nL 223.359643 103.094973 \nL 226.047336 85.390067 \nL 228.777927 90.587546 \nL 231.552297 113.122257 \nL 234.37098 108.316208 \nL 237.234681 114.238264 \nL 240.144197 122.516278 \nL 243.100324 127.089684 \nL 246.103593 142.127226 \nL 249.154976 148.644284 \nL 252.255093 152.610414 \nL 255.404828 155.846823 \nL 258.604889 167.930846 \nL 261.85616 155.806696 \nL 265.159437 160.62522 \nL 268.515517 165.324162 \nL 271.925195 169.889657 \nL 275.389532 174.308521 \nL 278.909236 178.568257 \nL 282.485192 182.657054 \nL 286.118372 186.563798 \nL 289.809573 190.278077 \nL 293.559768 193.790201 \nL 297.370017 197.091215 \nL 301.241117 200.172923 \nL 305.174217 203.027913 \nL 309.170114 205.649588 \nL 313.229958 208.032207 \nL 317.35472 210.170917 \nL 321.545464 212.061812 \nL 325.803249 213.701975 \nL 330.129049 215.089547 \nL 334.524014 216.22379 \nL 338.989294 217.105162 \nL 343.525949 217.735399 \nL 348.135218 218.117608 \nL 352.818251 218.256364 \nL 357.576021 218.157821 \nL 362.409943 217.829833 \nL 362.409943 181.820879 \nL 362.409943 181.820879 \nL 357.576021 179.009328 \nL 352.818251 176.338261 \nL 348.135218 173.817331 \nL 343.525949 171.454497 \nL 338.989294 169.256129 \nL 334.524014 167.227127 \nL 330.129049 165.371012 \nL 325.803249 163.690026 \nL 321.545464 162.185208 \nL 317.35472 160.856474 \nL 313.229958 159.702689 \nL 309.170114 158.721726 \nL 305.174217 157.910527 \nL 301.241117 157.265154 \nL 297.370017 156.780832 \nL 293.559768 156.451995 \nL 289.809573 156.272317 \nL 286.118372 156.234746 \nL 282.485192 156.33153 \nL 278.909236 156.554238 \nL 275.389532 156.89378 \nL 271.925195 157.340424 \nL 268.515517 157.883799 \nL 265.159437 158.512911 \nL 261.85616 159.21614 \nL 258.604889 143.044452 \nL 255.404828 150.335836 \nL 252.255093 148.418664 \nL 249.154976 147.606352 \nL 246.103593 149.361447 \nL 243.100324 160.094869 \nL 240.144197 159.996696 \nL 237.234681 163.958302 \nL 234.37098 165.029539 \nL 231.552297 155.880721 \nL 228.777927 173.888263 \nL 226.047336 174.432602 \nL 223.359643 153.632904 \nL 220.714314 148.717492 \nL 218.110556 146.805596 \nL 215.547836 156.689621 \nL 213.025448 152.10361 \nL 210.542771 159.939944 \nL 208.0991 144.694868 \nL 205.69399 135.544518 \nL 203.326648 116.580323 \nL 200.996629 120.857609 \nL 198.703227 101.809821 \nL 196.445911 101.167117 \nL 194.22415 94.965218 \nL 192.037414 109.653489 \nL 189.884995 106.360107 \nL 187.766538 114.652373 \nL 185.681338 106.040799 \nL 183.62904 132.749917 \nL 181.609024 125.348605 \nL 179.62076 122.415911 \nL 177.663806 112.982351 \nL 175.73772 112.093325 \nL 173.841882 108.212899 \nL 171.975851 101.048982 \nL 170.139272 83.291941 \nL 168.331526 99.778544 \nL 166.55226 107.515261 \nL 164.801031 118.706554 \nL 163.077309 115.722857 \nL 161.380829 115.531735 \nL 159.71097 128.819631 \nL 158.06738 134.353686 \nL 156.449705 141.107928 \nL 154.857413 137.259491 \nL 153.290241 131.146234 \nL 151.747744 144.852506 \nL 150.229482 157.929805 \nL 148.7351 158.898531 \nL 147.264333 158.356797 \nL 145.816651 159.578105 \nL 144.391699 149.028871 \nL 142.989301 149.613783 \nL 141.608838 153.179947 \nL 140.25022 147.83513 \nL 138.912918 138.62981 \nL 137.596666 135.254283 \nL 136.301199 126.552059 \nL 135.026075 117.567395 \nL 133.771028 108.922485 \nL 132.535704 109.420942 \nL 131.319838 98.97272 \nL 130.123077 98.577568 \nL 128.945243 92.666796 \nL 127.785894 90.77276 \nL 126.644765 91.624441 \nL 125.521679 85.366145 \nL 124.416194 68.697487 \nL 123.328133 72.717117 \nL 122.257141 75.956841 \nL 121.203132 83.820059 \nL 120.165573 86.581934 \nL 119.144465 94.542431 \nL 118.139366 96.727495 \nL 117.150099 88.469291 \nL 116.176398 81.691972 \nL 115.217998 80.796247 \nL 114.274723 84.922764 \nL 113.346306 69.915019 \nL 112.432395 65.667213 \nL 111.532988 59.402648 \nL 110.647733 61.973823 \nL 109.776364 58.927145 \nL 108.918705 57.112701 \nL 108.074577 59.48395 \nL 107.243716 57.622747 \nL 106.425857 68.47385 \nL 105.620999 61.421208 \nL 104.828789 53.592229 \nL 104.048962 59.218234 \nL 103.281517 64.694166 \nL 102.526101 57.005262 \nL 101.782536 57.361683 \nL 101.050735 62.728485 \nL 100.330431 66.729911 \nL 99.621449 66.006216 \nL 98.923611 64.757162 \nL 98.23674 72.300122 \nL 97.560748 72.250292 \nL 96.89537 73.833639 \nL 96.240428 65.881782 \nL 95.595834 74.337143 \nL 94.961412 71.265277 \nL 94.336984 73.792019 \nL 93.722285 72.493376 \nL 93.117315 73.961232 \nL 92.521897 71.346925 \nL 91.935855 64.385005 \nL 91.359011 57.559783 \nL 90.791188 57.532252 \nL 90.232387 65.874372 \nL 89.682342 60.176955 \nL 89.140964 59.853472 \nL 88.608078 62.130508 \nL 88.083594 55.076995 \nL 87.567423 55.622299 \nL 87.059302 52.641462 \nL 86.559229 61.026885 \nL 86.067027 62.760597 \nL 85.582521 57.137154 \nL 85.10562 45.50946 \nL 84.636327 42.475784 \nL 84.174374 35.04183 \nL 83.719673 32.276945 \nL 83.272137 34.288967 \nL 82.831677 31.974372 \nL 82.398115 30.201426 \nL 81.971363 37.974542 \nL 81.551334 36.9114 \nL 81.137938 49.171745 \nL 80.731087 49.148369 \nL 80.330515 48.444837 \nL 79.9364 48.097776 \nL 79.548388 49.042792 \nL 79.166479 51.26841 \nL 78.790584 52.298925 \nL 78.420703 55.740256 \nL 78.056571 60.667867 \nL 77.6981 61.682048 \nL 77.345378 68.928319 \nL 76.998139 70.50209 \nL 76.656473 73.209865 \nL 76.320113 81.334319 \nL 75.988972 83.741842 \nL 75.663137 84.825932 \nL 75.342432 80.933631 \nL 75.026769 82.594935 \nL 74.716058 85.753246 \nL 74.410212 87.469762 \nL 74.109231 88.074049 \nL 73.812937 89.903785 \nL 73.521331 89.016963 \nL 73.234324 85.945584 \nL 72.951828 91.104245 \nL 72.400102 89.721811 \nL 72.130696 90.755278 \nL 71.865536 86.796119 \nL 71.60462 82.877771 \nL 71.347773 82.513447 \nL 71.094906 83.915054 \nL 70.601201 83.064847 \nL 70.360186 81.567672 \nL 69.659518 80.0133 \nL 69.433273 78.412267 \nL 69.210567 76.773842 \nL 68.991398 75.105852 \nL 68.35441 73.414481 \nL 67.946233 71.704049 \nL 67.746964 69.976752 \nL 67.357802 68.232376 \nL 67.16782 66.467959 \nL 66.796701 64.677426 \nL 66.437169 62.85115 \nL 65.751536 60.975475 \nL 65.265084 59.032157 \nL 64.9534 56.997727 \nL 64.504007 54.842764 \nL 64.075575 52.531061 \nL 63.667043 50.01865 \nL 63.151669 47.252698 \nL 62.105 44.170199 \nL 61.485879 40.696474 \nL 60.834121 36.743405 \nL 60.095864 32.207368 \nL 59.199376 26.966799 \nL 58.046307 20.879311 \nz\n\" style=\"fill:#1f77b4;fill-opacity:0.5;\"/>\n   </g>\n   <g id=\"matplotlib.axis_1\">\n    <g id=\"xtick_1\">\n     <g id=\"line2d_1\">\n      <defs>\n       <path d=\"M 0 0 \nL 0 3.5 \n\" id=\"me046319413\" style=\"stroke:#000000;stroke-width:0.8;\"/>\n      </defs>\n      <g>\n       <use style=\"stroke:#000000;stroke-width:0.8;\" x=\"55.285468\" xlink:href=\"#me046319413\" y=\"228.14\"/>\n      </g>\n     </g>\n     <g id=\"text_1\">\n      <!-- 0.0 -->\n      <defs>\n       <path d=\"M 31.78125 66.40625 \nQ 24.171875 66.40625 20.328125 58.90625 \nQ 16.5 51.421875 16.5 36.375 \nQ 16.5 21.390625 20.328125 13.890625 \nQ 24.171875 6.390625 31.78125 6.390625 \nQ 39.453125 6.390625 43.28125 13.890625 \nQ 47.125 21.390625 47.125 36.375 \nQ 47.125 51.421875 43.28125 58.90625 \nQ 39.453125 66.40625 31.78125 66.40625 \nz\nM 31.78125 74.21875 \nQ 44.046875 74.21875 50.515625 64.515625 \nQ 56.984375 54.828125 56.984375 36.375 \nQ 56.984375 17.96875 50.515625 8.265625 \nQ 44.046875 -1.421875 31.78125 -1.421875 \nQ 19.53125 -1.421875 13.0625 8.265625 \nQ 6.59375 17.96875 6.59375 36.375 \nQ 6.59375 54.828125 13.0625 64.515625 \nQ 19.53125 74.21875 31.78125 74.21875 \nz\n\" id=\"DejaVuSans-30\"/>\n       <path d=\"M 10.6875 12.40625 \nL 21 12.40625 \nL 21 0 \nL 10.6875 0 \nz\n\" id=\"DejaVuSans-2e\"/>\n      </defs>\n      <g transform=\"translate(47.333906 242.738437)scale(0.1 -0.1)\">\n       <use xlink:href=\"#DejaVuSans-30\"/>\n       <use x=\"63.623047\" xlink:href=\"#DejaVuSans-2e\"/>\n       <use x=\"95.410156\" xlink:href=\"#DejaVuSans-30\"/>\n      </g>\n     </g>\n    </g>\n    <g id=\"xtick_2\">\n     <g id=\"line2d_2\">\n      <g>\n       <use style=\"stroke:#000000;stroke-width:0.8;\" x=\"99.508415\" xlink:href=\"#me046319413\" y=\"228.14\"/>\n      </g>\n     </g>\n     <g id=\"text_2\">\n      <!-- 0.5 -->\n      <defs>\n       <path d=\"M 10.796875 72.90625 \nL 49.515625 72.90625 \nL 49.515625 64.59375 \nL 19.828125 64.59375 \nL 19.828125 46.734375 \nQ 21.96875 47.46875 24.109375 47.828125 \nQ 26.265625 48.1875 28.421875 48.1875 \nQ 40.625 48.1875 47.75 41.5 \nQ 54.890625 34.8125 54.890625 23.390625 \nQ 54.890625 11.625 47.5625 5.09375 \nQ 40.234375 -1.421875 26.90625 -1.421875 \nQ 22.3125 -1.421875 17.546875 -0.640625 \nQ 12.796875 0.140625 7.71875 1.703125 \nL 7.71875 11.625 \nQ 12.109375 9.234375 16.796875 8.0625 \nQ 21.484375 6.890625 26.703125 6.890625 \nQ 35.15625 6.890625 40.078125 11.328125 \nQ 45.015625 15.765625 45.015625 23.390625 \nQ 45.015625 31 40.078125 35.4375 \nQ 35.15625 39.890625 26.703125 39.890625 \nQ 22.75 39.890625 18.8125 39.015625 \nQ 14.890625 38.140625 10.796875 36.28125 \nz\n\" id=\"DejaVuSans-35\"/>\n      </defs>\n      <g transform=\"translate(91.556853 242.738437)scale(0.1 -0.1)\">\n       <use xlink:href=\"#DejaVuSans-30\"/>\n       <use x=\"63.623047\" xlink:href=\"#DejaVuSans-2e\"/>\n       <use x=\"95.410156\" xlink:href=\"#DejaVuSans-35\"/>\n      </g>\n     </g>\n    </g>\n    <g id=\"xtick_3\">\n     <g id=\"line2d_3\">\n      <g>\n       <use style=\"stroke:#000000;stroke-width:0.8;\" x=\"143.731362\" xlink:href=\"#me046319413\" y=\"228.14\"/>\n      </g>\n     </g>\n     <g id=\"text_3\">\n      <!-- 1.0 -->\n      <defs>\n       <path d=\"M 12.40625 8.296875 \nL 28.515625 8.296875 \nL 28.515625 63.921875 \nL 10.984375 60.40625 \nL 10.984375 69.390625 \nL 28.421875 72.90625 \nL 38.28125 72.90625 \nL 38.28125 8.296875 \nL 54.390625 8.296875 \nL 54.390625 0 \nL 12.40625 0 \nz\n\" id=\"DejaVuSans-31\"/>\n      </defs>\n      <g transform=\"translate(135.7798 242.738437)scale(0.1 -0.1)\">\n       <use xlink:href=\"#DejaVuSans-31\"/>\n       <use x=\"63.623047\" xlink:href=\"#DejaVuSans-2e\"/>\n       <use x=\"95.410156\" xlink:href=\"#DejaVuSans-30\"/>\n      </g>\n     </g>\n    </g>\n    <g id=\"xtick_4\">\n     <g id=\"line2d_4\">\n      <g>\n       <use style=\"stroke:#000000;stroke-width:0.8;\" x=\"187.954309\" xlink:href=\"#me046319413\" y=\"228.14\"/>\n      </g>\n     </g>\n     <g id=\"text_4\">\n      <!-- 1.5 -->\n      <g transform=\"translate(180.002747 242.738437)scale(0.1 -0.1)\">\n       <use xlink:href=\"#DejaVuSans-31\"/>\n       <use x=\"63.623047\" xlink:href=\"#DejaVuSans-2e\"/>\n       <use x=\"95.410156\" xlink:href=\"#DejaVuSans-35\"/>\n      </g>\n     </g>\n    </g>\n    <g id=\"xtick_5\">\n     <g id=\"line2d_5\">\n      <g>\n       <use style=\"stroke:#000000;stroke-width:0.8;\" x=\"232.177256\" xlink:href=\"#me046319413\" y=\"228.14\"/>\n      </g>\n     </g>\n     <g id=\"text_5\">\n      <!-- 2.0 -->\n      <defs>\n       <path d=\"M 19.1875 8.296875 \nL 53.609375 8.296875 \nL 53.609375 0 \nL 7.328125 0 \nL 7.328125 8.296875 \nQ 12.9375 14.109375 22.625 23.890625 \nQ 32.328125 33.6875 34.8125 36.53125 \nQ 39.546875 41.84375 41.421875 45.53125 \nQ 43.3125 49.21875 43.3125 52.78125 \nQ 43.3125 58.59375 39.234375 62.25 \nQ 35.15625 65.921875 28.609375 65.921875 \nQ 23.96875 65.921875 18.8125 64.3125 \nQ 13.671875 62.703125 7.8125 59.421875 \nL 7.8125 69.390625 \nQ 13.765625 71.78125 18.9375 73 \nQ 24.125 74.21875 28.421875 74.21875 \nQ 39.75 74.21875 46.484375 68.546875 \nQ 53.21875 62.890625 53.21875 53.421875 \nQ 53.21875 48.921875 51.53125 44.890625 \nQ 49.859375 40.875 45.40625 35.40625 \nQ 44.1875 33.984375 37.640625 27.21875 \nQ 31.109375 20.453125 19.1875 8.296875 \nz\n\" id=\"DejaVuSans-32\"/>\n      </defs>\n      <g transform=\"translate(224.225694 242.738437)scale(0.1 -0.1)\">\n       <use xlink:href=\"#DejaVuSans-32\"/>\n       <use x=\"63.623047\" xlink:href=\"#DejaVuSans-2e\"/>\n       <use x=\"95.410156\" xlink:href=\"#DejaVuSans-30\"/>\n      </g>\n     </g>\n    </g>\n    <g id=\"xtick_6\">\n     <g id=\"line2d_6\">\n      <g>\n       <use style=\"stroke:#000000;stroke-width:0.8;\" x=\"276.400203\" xlink:href=\"#me046319413\" y=\"228.14\"/>\n      </g>\n     </g>\n     <g id=\"text_6\">\n      <!-- 2.5 -->\n      <g transform=\"translate(268.44864 242.738437)scale(0.1 -0.1)\">\n       <use xlink:href=\"#DejaVuSans-32\"/>\n       <use x=\"63.623047\" xlink:href=\"#DejaVuSans-2e\"/>\n       <use x=\"95.410156\" xlink:href=\"#DejaVuSans-35\"/>\n      </g>\n     </g>\n    </g>\n    <g id=\"xtick_7\">\n     <g id=\"line2d_7\">\n      <g>\n       <use style=\"stroke:#000000;stroke-width:0.8;\" x=\"320.62315\" xlink:href=\"#me046319413\" y=\"228.14\"/>\n      </g>\n     </g>\n     <g id=\"text_7\">\n      <!-- 3.0 -->\n      <defs>\n       <path d=\"M 40.578125 39.3125 \nQ 47.65625 37.796875 51.625 33 \nQ 55.609375 28.21875 55.609375 21.1875 \nQ 55.609375 10.40625 48.1875 4.484375 \nQ 40.765625 -1.421875 27.09375 -1.421875 \nQ 22.515625 -1.421875 17.65625 -0.515625 \nQ 12.796875 0.390625 7.625 2.203125 \nL 7.625 11.71875 \nQ 11.71875 9.328125 16.59375 8.109375 \nQ 21.484375 6.890625 26.8125 6.890625 \nQ 36.078125 6.890625 40.9375 10.546875 \nQ 45.796875 14.203125 45.796875 21.1875 \nQ 45.796875 27.640625 41.28125 31.265625 \nQ 36.765625 34.90625 28.71875 34.90625 \nL 20.21875 34.90625 \nL 20.21875 43.015625 \nL 29.109375 43.015625 \nQ 36.375 43.015625 40.234375 45.921875 \nQ 44.09375 48.828125 44.09375 54.296875 \nQ 44.09375 59.90625 40.109375 62.90625 \nQ 36.140625 65.921875 28.71875 65.921875 \nQ 24.65625 65.921875 20.015625 65.03125 \nQ 15.375 64.15625 9.8125 62.3125 \nL 9.8125 71.09375 \nQ 15.4375 72.65625 20.34375 73.4375 \nQ 25.25 74.21875 29.59375 74.21875 \nQ 40.828125 74.21875 47.359375 69.109375 \nQ 53.90625 64.015625 53.90625 55.328125 \nQ 53.90625 49.265625 50.4375 45.09375 \nQ 46.96875 40.921875 40.578125 39.3125 \nz\n\" id=\"DejaVuSans-33\"/>\n      </defs>\n      <g transform=\"translate(312.671587 242.738437)scale(0.1 -0.1)\">\n       <use xlink:href=\"#DejaVuSans-33\"/>\n       <use x=\"63.623047\" xlink:href=\"#DejaVuSans-2e\"/>\n       <use x=\"95.410156\" xlink:href=\"#DejaVuSans-30\"/>\n      </g>\n     </g>\n    </g>\n    <g id=\"xtick_8\">\n     <g id=\"line2d_8\">\n      <g>\n       <use style=\"stroke:#000000;stroke-width:0.8;\" x=\"364.846097\" xlink:href=\"#me046319413\" y=\"228.14\"/>\n      </g>\n     </g>\n     <g id=\"text_8\">\n      <!-- 3.5 -->\n      <g transform=\"translate(356.894534 242.738437)scale(0.1 -0.1)\">\n       <use xlink:href=\"#DejaVuSans-33\"/>\n       <use x=\"63.623047\" xlink:href=\"#DejaVuSans-2e\"/>\n       <use x=\"95.410156\" xlink:href=\"#DejaVuSans-35\"/>\n      </g>\n     </g>\n    </g>\n   </g>\n   <g id=\"matplotlib.axis_2\">\n    <g id=\"ytick_1\">\n     <g id=\"line2d_9\">\n      <defs>\n       <path d=\"M 0 0 \nL -3.5 0 \n\" id=\"m09b9d8797e\" style=\"stroke:#000000;stroke-width:0.8;\"/>\n      </defs>\n      <g>\n       <use style=\"stroke:#000000;stroke-width:0.8;\" x=\"42.828125\" xlink:href=\"#m09b9d8797e\" y=\"209.944556\"/>\n      </g>\n     </g>\n     <g id=\"text_9\">\n      <!-- 0.975 -->\n      <defs>\n       <path d=\"M 10.984375 1.515625 \nL 10.984375 10.5 \nQ 14.703125 8.734375 18.5 7.8125 \nQ 22.3125 6.890625 25.984375 6.890625 \nQ 35.75 6.890625 40.890625 13.453125 \nQ 46.046875 20.015625 46.78125 33.40625 \nQ 43.953125 29.203125 39.59375 26.953125 \nQ 35.25 24.703125 29.984375 24.703125 \nQ 19.046875 24.703125 12.671875 31.3125 \nQ 6.296875 37.9375 6.296875 49.421875 \nQ 6.296875 60.640625 12.9375 67.421875 \nQ 19.578125 74.21875 30.609375 74.21875 \nQ 43.265625 74.21875 49.921875 64.515625 \nQ 56.59375 54.828125 56.59375 36.375 \nQ 56.59375 19.140625 48.40625 8.859375 \nQ 40.234375 -1.421875 26.421875 -1.421875 \nQ 22.703125 -1.421875 18.890625 -0.6875 \nQ 15.09375 0.046875 10.984375 1.515625 \nz\nM 30.609375 32.421875 \nQ 37.25 32.421875 41.125 36.953125 \nQ 45.015625 41.5 45.015625 49.421875 \nQ 45.015625 57.28125 41.125 61.84375 \nQ 37.25 66.40625 30.609375 66.40625 \nQ 23.96875 66.40625 20.09375 61.84375 \nQ 16.21875 57.28125 16.21875 49.421875 \nQ 16.21875 41.5 20.09375 36.953125 \nQ 23.96875 32.421875 30.609375 32.421875 \nz\n\" id=\"DejaVuSans-39\"/>\n       <path d=\"M 8.203125 72.90625 \nL 55.078125 72.90625 \nL 55.078125 68.703125 \nL 28.609375 0 \nL 18.3125 0 \nL 43.21875 64.59375 \nL 8.203125 64.59375 \nz\n\" id=\"DejaVuSans-37\"/>\n      </defs>\n      <g transform=\"translate(7.2 213.743775)scale(0.1 -0.1)\">\n       <use xlink:href=\"#DejaVuSans-30\"/>\n       <use x=\"63.623047\" xlink:href=\"#DejaVuSans-2e\"/>\n       <use x=\"95.410156\" xlink:href=\"#DejaVuSans-39\"/>\n       <use x=\"159.033203\" xlink:href=\"#DejaVuSans-37\"/>\n       <use x=\"222.65625\" xlink:href=\"#DejaVuSans-35\"/>\n      </g>\n     </g>\n    </g>\n    <g id=\"ytick_2\">\n     <g id=\"line2d_10\">\n      <g>\n       <use style=\"stroke:#000000;stroke-width:0.8;\" x=\"42.828125\" xlink:href=\"#m09b9d8797e\" y=\"178.25967\"/>\n      </g>\n     </g>\n     <g id=\"text_10\">\n      <!-- 0.980 -->\n      <defs>\n       <path d=\"M 31.78125 34.625 \nQ 24.75 34.625 20.71875 30.859375 \nQ 16.703125 27.09375 16.703125 20.515625 \nQ 16.703125 13.921875 20.71875 10.15625 \nQ 24.75 6.390625 31.78125 6.390625 \nQ 38.8125 6.390625 42.859375 10.171875 \nQ 46.921875 13.96875 46.921875 20.515625 \nQ 46.921875 27.09375 42.890625 30.859375 \nQ 38.875 34.625 31.78125 34.625 \nz\nM 21.921875 38.8125 \nQ 15.578125 40.375 12.03125 44.71875 \nQ 8.5 49.078125 8.5 55.328125 \nQ 8.5 64.0625 14.71875 69.140625 \nQ 20.953125 74.21875 31.78125 74.21875 \nQ 42.671875 74.21875 48.875 69.140625 \nQ 55.078125 64.0625 55.078125 55.328125 \nQ 55.078125 49.078125 51.53125 44.71875 \nQ 48 40.375 41.703125 38.8125 \nQ 48.828125 37.15625 52.796875 32.3125 \nQ 56.78125 27.484375 56.78125 20.515625 \nQ 56.78125 9.90625 50.3125 4.234375 \nQ 43.84375 -1.421875 31.78125 -1.421875 \nQ 19.734375 -1.421875 13.25 4.234375 \nQ 6.78125 9.90625 6.78125 20.515625 \nQ 6.78125 27.484375 10.78125 32.3125 \nQ 14.796875 37.15625 21.921875 38.8125 \nz\nM 18.3125 54.390625 \nQ 18.3125 48.734375 21.84375 45.5625 \nQ 25.390625 42.390625 31.78125 42.390625 \nQ 38.140625 42.390625 41.71875 45.5625 \nQ 45.3125 48.734375 45.3125 54.390625 \nQ 45.3125 60.0625 41.71875 63.234375 \nQ 38.140625 66.40625 31.78125 66.40625 \nQ 25.390625 66.40625 21.84375 63.234375 \nQ 18.3125 60.0625 18.3125 54.390625 \nz\n\" id=\"DejaVuSans-38\"/>\n      </defs>\n      <g transform=\"translate(7.2 182.058888)scale(0.1 -0.1)\">\n       <use xlink:href=\"#DejaVuSans-30\"/>\n       <use x=\"63.623047\" xlink:href=\"#DejaVuSans-2e\"/>\n       <use x=\"95.410156\" xlink:href=\"#DejaVuSans-39\"/>\n       <use x=\"159.033203\" xlink:href=\"#DejaVuSans-38\"/>\n       <use x=\"222.65625\" xlink:href=\"#DejaVuSans-30\"/>\n      </g>\n     </g>\n    </g>\n    <g id=\"ytick_3\">\n     <g id=\"line2d_11\">\n      <g>\n       <use style=\"stroke:#000000;stroke-width:0.8;\" x=\"42.828125\" xlink:href=\"#m09b9d8797e\" y=\"146.574784\"/>\n      </g>\n     </g>\n     <g id=\"text_11\">\n      <!-- 0.985 -->\n      <g transform=\"translate(7.2 150.374002)scale(0.1 -0.1)\">\n       <use xlink:href=\"#DejaVuSans-30\"/>\n       <use x=\"63.623047\" xlink:href=\"#DejaVuSans-2e\"/>\n       <use x=\"95.410156\" xlink:href=\"#DejaVuSans-39\"/>\n       <use x=\"159.033203\" xlink:href=\"#DejaVuSans-38\"/>\n       <use x=\"222.65625\" xlink:href=\"#DejaVuSans-35\"/>\n      </g>\n     </g>\n    </g>\n    <g id=\"ytick_4\">\n     <g id=\"line2d_12\">\n      <g>\n       <use style=\"stroke:#000000;stroke-width:0.8;\" x=\"42.828125\" xlink:href=\"#m09b9d8797e\" y=\"114.889897\"/>\n      </g>\n     </g>\n     <g id=\"text_12\">\n      <!-- 0.990 -->\n      <g transform=\"translate(7.2 118.689116)scale(0.1 -0.1)\">\n       <use xlink:href=\"#DejaVuSans-30\"/>\n       <use x=\"63.623047\" xlink:href=\"#DejaVuSans-2e\"/>\n       <use x=\"95.410156\" xlink:href=\"#DejaVuSans-39\"/>\n       <use x=\"159.033203\" xlink:href=\"#DejaVuSans-39\"/>\n       <use x=\"222.65625\" xlink:href=\"#DejaVuSans-30\"/>\n      </g>\n     </g>\n    </g>\n    <g id=\"ytick_5\">\n     <g id=\"line2d_13\">\n      <g>\n       <use style=\"stroke:#000000;stroke-width:0.8;\" x=\"42.828125\" xlink:href=\"#m09b9d8797e\" y=\"83.205011\"/>\n      </g>\n     </g>\n     <g id=\"text_13\">\n      <!-- 0.995 -->\n      <g transform=\"translate(7.2 87.00423)scale(0.1 -0.1)\">\n       <use xlink:href=\"#DejaVuSans-30\"/>\n       <use x=\"63.623047\" xlink:href=\"#DejaVuSans-2e\"/>\n       <use x=\"95.410156\" xlink:href=\"#DejaVuSans-39\"/>\n       <use x=\"159.033203\" xlink:href=\"#DejaVuSans-39\"/>\n       <use x=\"222.65625\" xlink:href=\"#DejaVuSans-35\"/>\n      </g>\n     </g>\n    </g>\n    <g id=\"ytick_6\">\n     <g id=\"line2d_14\">\n      <g>\n       <use style=\"stroke:#000000;stroke-width:0.8;\" x=\"42.828125\" xlink:href=\"#m09b9d8797e\" y=\"51.520125\"/>\n      </g>\n     </g>\n     <g id=\"text_14\">\n      <!-- 1.000 -->\n      <g transform=\"translate(7.2 55.319344)scale(0.1 -0.1)\">\n       <use xlink:href=\"#DejaVuSans-31\"/>\n       <use x=\"63.623047\" xlink:href=\"#DejaVuSans-2e\"/>\n       <use x=\"95.410156\" xlink:href=\"#DejaVuSans-30\"/>\n       <use x=\"159.033203\" xlink:href=\"#DejaVuSans-30\"/>\n       <use x=\"222.65625\" xlink:href=\"#DejaVuSans-30\"/>\n      </g>\n     </g>\n    </g>\n    <g id=\"ytick_7\">\n     <g id=\"line2d_15\">\n      <g>\n       <use style=\"stroke:#000000;stroke-width:0.8;\" x=\"42.828125\" xlink:href=\"#m09b9d8797e\" y=\"19.835239\"/>\n      </g>\n     </g>\n     <g id=\"text_15\">\n      <!-- 1.005 -->\n      <g transform=\"translate(7.2 23.634458)scale(0.1 -0.1)\">\n       <use xlink:href=\"#DejaVuSans-31\"/>\n       <use x=\"63.623047\" xlink:href=\"#DejaVuSans-2e\"/>\n       <use x=\"95.410156\" xlink:href=\"#DejaVuSans-30\"/>\n       <use x=\"159.033203\" xlink:href=\"#DejaVuSans-30\"/>\n       <use x=\"222.65625\" xlink:href=\"#DejaVuSans-35\"/>\n      </g>\n     </g>\n    </g>\n   </g>\n   <g id=\"line2d_16\">\n    <path clip-path=\"url(#pca8211a9f3)\" d=\"M 58.046307 48.880467 \nL 61.485879 48.859688 \nL 63.667043 49.046478 \nL 64.9534 49.413256 \nL 65.751536 49.755276 \nL 66.796701 50.171482 \nL 67.357802 50.657495 \nL 67.746964 50.925112 \nL 67.946233 51.20823 \nL 68.35441 51.506134 \nL 68.991398 51.818089 \nL 69.659518 52.830614 \nL 70.360186 53.191061 \nL 70.601201 53.561643 \nL 71.094906 53.969496 \nL 72.400102 56.256897 \nL 72.951828 56.744167 \nL 73.234324 57.511623 \nL 73.812937 58.308033 \nL 75.026769 59.380553 \nL 75.663137 59.848166 \nL 75.988972 60.236555 \nL 76.320113 60.1699 \nL 76.998139 60.403723 \nL 78.056571 61.117321 \nL 78.420703 61.400945 \nL 79.166479 62.395388 \nL 79.9364 62.977249 \nL 80.330515 63.495929 \nL 80.731087 63.510422 \nL 82.398115 65.276496 \nL 83.272137 66.773229 \nL 83.719673 67.532142 \nL 84.174374 67.27585 \nL 85.582521 68.991161 \nL 86.559229 70.111354 \nL 87.567423 70.730063 \nL 88.083594 70.893618 \nL 88.608078 71.263781 \nL 89.140964 71.369015 \nL 89.682342 71.965512 \nL 90.232387 72.176968 \nL 91.359011 73.350639 \nL 93.722285 74.98361 \nL 94.961412 75.529599 \nL 95.595834 75.316407 \nL 96.89537 75.205219 \nL 98.23674 75.002439 \nL 100.330431 75.222923 \nL 101.050735 75.407984 \nL 102.526101 75.43704 \nL 104.048962 75.807963 \nL 105.620999 76.458545 \nL 107.243716 76.701333 \nL 108.074577 76.705918 \nL 108.918705 76.838315 \nL 109.776364 76.808824 \nL 110.647733 77.08062 \nL 111.532988 77.194174 \nL 113.346306 78.137729 \nL 114.274723 78.881494 \nL 115.217998 79.189534 \nL 119.144465 81.163314 \nL 128.945243 85.220947 \nL 130.123077 85.813389 \nL 131.319838 86.651737 \nL 132.535704 87.083885 \nL 133.771028 87.740834 \nL 135.026075 88.225921 \nL 136.301199 88.279744 \nL 137.596666 88.94502 \nL 138.912918 89.250711 \nL 142.989301 90.700826 \nL 145.816651 91.536357 \nL 147.264333 92.018413 \nL 153.290241 94.720259 \nL 158.06738 95.71796 \nL 159.71097 96.096592 \nL 161.380829 96.636481 \nL 163.077309 96.42126 \nL 164.801031 96.735766 \nL 166.55226 97.251392 \nL 168.331526 97.509592 \nL 170.139272 98.079481 \nL 171.975851 98.389134 \nL 175.73772 99.50402 \nL 177.663806 100.708535 \nL 179.62076 101.453266 \nL 181.609024 102.008523 \nL 185.681338 104.169492 \nL 187.766538 104.832942 \nL 189.884995 106.088056 \nL 192.037414 107.535699 \nL 194.22415 108.75364 \nL 198.703227 111.686978 \nL 200.996629 113.40324 \nL 203.326648 114.976105 \nL 208.0991 117.9907 \nL 210.542771 119.245589 \nL 218.110556 124.519616 \nL 220.714314 126.598535 \nL 223.359643 128.414938 \nL 226.047336 130.069691 \nL 228.777927 132.376548 \nL 234.37098 136.737183 \nL 237.234681 139.14773 \nL 240.144197 141.284595 \nL 243.100324 143.614081 \nL 246.103593 145.745384 \nL 258.604889 155.500069 \nL 271.925195 163.618203 \nL 278.909236 167.570985 \nL 286.118372 171.417766 \nL 293.559768 175.149146 \nL 301.241117 178.756098 \nL 309.170114 182.230012 \nL 317.35472 185.562703 \nL 325.803249 188.74643 \nL 334.524014 191.773884 \nL 343.525949 194.638174 \nL 352.818251 197.332789 \nL 362.409943 199.851546 \nL 362.409943 199.851546 \n\" style=\"fill:none;stroke:#1f77b4;stroke-linecap:square;stroke-width:1.5;\"/>\n   </g>\n   <g id=\"patch_3\">\n    <path d=\"M 42.828125 228.14 \nL 42.828125 10.7 \n\" style=\"fill:none;stroke:#000000;stroke-linecap:square;stroke-linejoin:miter;stroke-width:0.8;\"/>\n   </g>\n   <g id=\"patch_4\">\n    <path d=\"M 377.628125 228.14 \nL 377.628125 10.7 \n\" style=\"fill:none;stroke:#000000;stroke-linecap:square;stroke-linejoin:miter;stroke-width:0.8;\"/>\n   </g>\n   <g id=\"patch_5\">\n    <path d=\"M 42.828125 228.14 \nL 377.628125 228.14 \n\" style=\"fill:none;stroke:#000000;stroke-linecap:square;stroke-linejoin:miter;stroke-width:0.8;\"/>\n   </g>\n   <g id=\"patch_6\">\n    <path d=\"M 42.828125 10.7 \nL 377.628125 10.7 \n\" style=\"fill:none;stroke:#000000;stroke-linecap:square;stroke-linejoin:miter;stroke-width:0.8;\"/>\n   </g>\n  </g>\n </g>\n <defs>\n  <clipPath id=\"pca8211a9f3\">\n   <rect height=\"217.44\" width=\"334.8\" x=\"42.828125\" y=\"10.7\"/>\n  </clipPath>\n </defs>\n</svg>\n",
      "text/plain": "<Figure size 432x288 with 1 Axes>"
     },
     "metadata": {
      "needs_background": "light"
     },
     "output_type": "display_data"
    }
   ],
   "source": [
    "# par = [0.136512329, 0.971, 0.82, 1e-06, 1]\n",
    "# 11, 17, 20, 37, 46\n",
    "# params = np.loadtxt(paramIn)\n",
    "\n",
    "# ctx_for_loading = gpflow.saver.SaverContext(autocompile=False)\n",
    "# saver = gpflow.saver.Saver()\n",
    "\n",
    "# m1 = saver.load(GPmodel, context=ctx_for_loading)\n",
    "# m1.clear()\n",
    "# m1.compile()\n",
    "\n",
    "# pca_model = pickle.load(open(PCAmodel, 'rb'))\n",
    "\n",
    "\n",
    "\n",
    "params = np.loadtxt(paramIn)\n",
    "params.min()\n",
    "par = params[46]\n",
    "# par = [1.46428570e-01, 9.56122398e-01, 8.14285755e-01, 2.05061588e-06, 8.16328004e-02] #params[11]\n",
    "par = [0.14, 1.0, 0.7, 1e-6, 1.0] #params[11]\n",
    "\n",
    "scaled_par = scale01(lhdmin, lhdmax, par)\n",
    "print(par)\n",
    "print( (scaled_par))\n",
    "\n",
    "# x_id = 46\n",
    "# \n",
    "# \n",
    "\n",
    "# print( params[np.argmin(params[:,3])])\n",
    "# print(parameter_array_all[x_id])\n",
    "plt.figure(12)\n",
    "# print(Emu(scaled_par))\n",
    "# print( unscalePk(Emu(scaled_par), ydiv, ysub) )\n",
    "\n",
    "# plt.plot(kvals, Emu(scaled_par))\n",
    "# plt.plot(kvals, unscalePk( EmuPlusMinus(scaled_par)[0],  ydiv, ysub) )\n",
    "# plt.fill_between(kvals, unscalePk( EmuPlusMinus(scaled_par)[1], ydiv, ysub), unscalePk(EmuPlusMinus(scaled_par)[2], ydiv, ysub), alpha = 0.5)\n",
    "\n",
    "plt.plot(kvals, 10**( EmuPlusMinus(scaled_par)[0]) )\n",
    "plt.fill_between(kvals, 10**( EmuPlusMinus(scaled_par)[1]), 10**(EmuPlusMinus(scaled_par)[2]), alpha = 0.5)\n",
    "\n",
    "# plt.plot(kvals, np.ones_like(kvals), 'k--')\n",
    "plt.show()"
   ]
  },
  {
   "cell_type": "code",
   "execution_count": 39,
   "metadata": {},
   "outputs": [],
   "source": [
    "# print(ysub, ydiv)"
   ]
  },
  {
   "cell_type": "code",
   "execution_count": 40,
   "metadata": {},
   "outputs": [
    {
     "data": {
      "text/plain": "0.9765927167652924"
     },
     "execution_count": 40,
     "metadata": {},
     "output_type": "execute_result"
    }
   ],
   "source": [
    " 10**( EmuPlusMinus(scaled_par)[0]).min()"
   ]
  },
  {
   "cell_type": "code",
   "execution_count": null,
   "metadata": {},
   "outputs": [],
   "source": []
  }
 ],
 "metadata": {
  "anaconda-cloud": {},
  "celltoolbar": "Slideshow",
  "kernelspec": {
   "display_name": "Python 3.7.5 64-bit ('env_py37': conda)",
   "language": "python",
   "name": "python37564bitenvpy37conda17150a11545f4ac4a3ea6d7b215219bc"
  },
  "language_info": {
   "codemirror_mode": {
    "name": "ipython",
    "version": 3
   },
   "file_extension": ".py",
   "mimetype": "text/x-python",
   "name": "python",
   "nbconvert_exporter": "python",
   "pygments_lexer": "ipython3",
   "version": "3.7.5-final"
  }
 },
 "nbformat": 4,
 "nbformat_minor": 2
}