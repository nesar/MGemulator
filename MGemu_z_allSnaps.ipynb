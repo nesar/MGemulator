{
 "cells": [
  {
   "cell_type": "code",
   "execution_count": 43,
   "metadata": {},
   "outputs": [],
   "source": [
    "import numpy as np  \n",
    "import matplotlib.pylab as plt\n",
    "import pickle\n",
    "from sklearn.decomposition import PCA\n",
    "import gpflow"
   ]
  },
  {
   "cell_type": "code",
   "execution_count": 44,
   "metadata": {},
   "outputs": [],
   "source": [
    "def scale01(fmin, fmax, f):\n",
    "    return (f - fmin) / (fmax - fmin)\n",
    "\n",
    "\n",
    "def modelLoad(nRankMax, snap_ID):\n",
    "    GPmodel = modelDir + 'GP_smooth_rank' + str(nRankMax) + 'snap' + str(snap_ID)  \n",
    "    PCAmodel = modelDir + 'PCA_smooth_rank' + str(nRankMax) + 'snap' + str(snap_ID)  \n",
    "\n",
    "    ctx_for_loading = gpflow.saver.SaverContext(autocompile=False)\n",
    "    saver = gpflow.saver.Saver()\n",
    "    GPm = saver.load(GPmodel, context=ctx_for_loading)\n",
    "    GPm.clear()\n",
    "    GPm.compile()\n",
    "    PCAm = pickle.load(open(PCAmodel, 'rb'))\n",
    "\n",
    "    # print(GPmodel)\n",
    "    return GPm, PCAm\n",
    "\n",
    "def GPy_predict(gpmodel, para_array):\n",
    "    m1p = gpmodel.predict_f(para_array)  # [0] is the mean and [1] the predictive\n",
    "    W_predArray = m1p[0]\n",
    "    W_varArray = m1p[1]\n",
    "    return W_predArray, W_varArray\n",
    "\n",
    "\n",
    "def Emu(gpmodel, pcamodel, para_array):\n",
    "    para_array = np.array(para_array)\n",
    "    # print(para_array)\n",
    "    para_array_rescaled = scale01(lhdmin, lhdmax, para_array)\n",
    "    if len(para_array.shape) == 1:\n",
    "        # print(para_array_rescaled)\n",
    "        W_predArray, _ = GPy_predict(gpmodel, np.expand_dims(para_array_rescaled, axis=0))\n",
    "        x_decoded = pcamodel.inverse_transform(W_predArray)\n",
    "        return np.squeeze(x_decoded)#[0]\n",
    "\n",
    "def MGemu(Om, ns, s8, fR0, n, z):\n",
    "    if (z==0):\n",
    "        GPm, PCAm = modelLoad(nRankMax, 99)\n",
    "        Pk_interp = Emu(GPm, PCAm, [Om, ns, s8, fR0, n])\n",
    "\n",
    "    else:\n",
    "        snap_idx_nearest = (np.abs(z_all - z)).argmin()\n",
    "        if (z > z_all[snap_idx_nearest]): \n",
    "            snap_ID_z1 = snap_idx_nearest - 1    \n",
    "        else:\n",
    "            snap_ID_z1 = snap_idx_nearest \n",
    "        snap_ID_z2 = snap_ID_z1 + 1\n",
    "\n",
    "        GPm1, PCAm1 = modelLoad(nRankMax, snap_ID_z1)\n",
    "        Pk_z1 = Emu(GPm1, PCAm1, [Om, ns, s8, fR0, n])\n",
    "        z1 = z_all[snap_ID_z1]\n",
    "\n",
    "        GPm2, PCAm2 = modelLoad(nRankMax, snap_ID_z2)\n",
    "        Pk_z2 = Emu(GPm2, PCAm2, [Om, ns, s8, fR0, n])\n",
    "        z2 = z_all[snap_ID_z2]\n",
    "        \n",
    "        # print('Linear interpolating for redshift between', 'z1= '+ str(z_all[snap_ID_z1]), 'z2= '+ str(z_all[snap_ID_z2]))\n",
    "        # print('Linear interpolating for snapshots ', 'for z1= '+ str(snap_ID_z1), 'and z2= '+ str(snap_ID_z2))\n",
    "        \n",
    "        Pk_interp = np.zeros_like(Pk_z1)\n",
    "        Pk_interp = Pk_z2 + (Pk_z1 - Pk_z2)*(z - z2)/(z1 - z2)\n",
    "    return Pk_interp\n"
   ]
  },
  {
   "cell_type": "code",
   "execution_count": 45,
   "metadata": {},
   "outputs": [],
   "source": [
    "nRankMax = 16\n",
    "# del_idx = [5, 25, 4, 42]  ## Random holdouts (not used in training, reserved for validation) \n",
    "\n",
    "\n",
    "dataDir = \"./Data/Emulator213bins/\" ## Data folder\n",
    "modelDir = \"./Models/\" ## Data folder\n",
    "\n",
    "az = np.loadtxt(dataDir + 'timestepsCOLA.txt', skiprows=1) \n",
    "fileIn = dataDir + 'ratiosbins_' + str(99) + '.txt'\n",
    "\n",
    "loadFile = np.loadtxt(fileIn)\n",
    "PmPl_all = loadFile[:, 1:].T\n",
    "kvals = loadFile[:,0]\n",
    "z_all = az[:, 1]\n",
    "\n",
    "lhdmin, lhdmax = np.loadtxt(dataDir + 'paralims.txt')"
   ]
  },
  {
   "cell_type": "code",
   "execution_count": 46,
   "metadata": {},
   "outputs": [],
   "source": [
    "nbody_1 = np.loadtxt('./Data/Nbody_validation/ratios_19.txt')\n",
    "nbody_2 = np.loadtxt('./Data/Nbody_validation/ratios_22.txt')\n",
    "nbody_3 = np.loadtxt('./Data/Nbody_validation/ratios_27.txt')\n",
    "nbody_4 = np.loadtxt('./Data/Nbody_validation/ratios_29.txt')\n",
    "nbody_5 = np.loadtxt('./Data/Nbody_validation/ratios_33.txt')\n",
    "nbody_6 = np.loadtxt('./Data/Nbody_validation/ratios_35.txt')\n",
    "nbody_7 = np.loadtxt('./Data/Nbody_validation/ratios_36.txt')\n",
    "nbody_8 = np.loadtxt('./Data/Nbody_validation/ratios_38.txt')\n",
    "\n",
    "nbody_pk = np.array([nbody_1, nbody_2, nbody_3, nbody_4, nbody_5, nbody_6, nbody_7, nbody_8])\n"
   ]
  },
  {
   "cell_type": "code",
   "execution_count": 47,
   "metadata": {},
   "outputs": [],
   "source": [
    "h = 0.697\n",
    "Om_f=(h**2)*0.281\n",
    "ns_f=0.971\n",
    "s8_f=0.82\n",
    "n_f=1\n",
    "\n",
    "fr0_f4 = 1e-4\n",
    "fr0_f5 = 1e-5\n",
    "fr0_f6 = 1e-6\n",
    "\n",
    "z_array = [1.016539373193011, 0.806909104243328, 0.505668030951772, 0.398366114391517, 0.200981514826109, 0.109319263502801, 0.064946498060623, 0.0]"
   ]
  },
  {
   "cell_type": "code",
   "execution_count": 48,
   "metadata": {},
   "outputs": [
    {
     "ename": "IndexError",
     "evalue": "list index out of range",
     "output_type": "error",
     "traceback": [
      "\u001b[0;31m---------------------------------------------------------------------------\u001b[0m",
      "\u001b[0;31mIndexError\u001b[0m                                Traceback (most recent call last)",
      "\u001b[0;32m<ipython-input-48-f11071a905ef>\u001b[0m in \u001b[0;36m<module>\u001b[0;34m\u001b[0m\n\u001b[1;32m      2\u001b[0m \u001b[0msnap_id_array\u001b[0m \u001b[0;34m=\u001b[0m \u001b[0;34m[\u001b[0m\u001b[0;36m6\u001b[0m\u001b[0;34m,\u001b[0m \u001b[0;36m7\u001b[0m\u001b[0;34m,\u001b[0m \u001b[0;36m8\u001b[0m\u001b[0;34m]\u001b[0m \u001b[0;31m#range(8)\u001b[0m\u001b[0;34m\u001b[0m\u001b[0;34m\u001b[0m\u001b[0m\n\u001b[1;32m      3\u001b[0m \u001b[0;32mfor\u001b[0m \u001b[0msnap_id\u001b[0m \u001b[0;32min\u001b[0m \u001b[0msnap_id_array\u001b[0m\u001b[0;34m:\u001b[0m\u001b[0;34m\u001b[0m\u001b[0;34m\u001b[0m\u001b[0m\n\u001b[0;32m----> 4\u001b[0;31m     \u001b[0memu\u001b[0m \u001b[0;34m=\u001b[0m \u001b[0mMGemu\u001b[0m\u001b[0;34m(\u001b[0m\u001b[0mOm\u001b[0m\u001b[0;34m=\u001b[0m\u001b[0mOm_f\u001b[0m\u001b[0;34m,\u001b[0m \u001b[0mns\u001b[0m\u001b[0;34m=\u001b[0m\u001b[0mns_f\u001b[0m\u001b[0;34m,\u001b[0m \u001b[0ms8\u001b[0m\u001b[0;34m=\u001b[0m\u001b[0ms8_f\u001b[0m\u001b[0;34m,\u001b[0m \u001b[0mfR0\u001b[0m\u001b[0;34m=\u001b[0m\u001b[0mfr0_f4\u001b[0m\u001b[0;34m,\u001b[0m \u001b[0mn\u001b[0m\u001b[0;34m=\u001b[0m\u001b[0mn_f\u001b[0m\u001b[0;34m,\u001b[0m \u001b[0mz\u001b[0m\u001b[0;34m=\u001b[0m\u001b[0mz_array\u001b[0m\u001b[0;34m[\u001b[0m\u001b[0msnap_id\u001b[0m\u001b[0;34m]\u001b[0m\u001b[0;34m)\u001b[0m\u001b[0;34m\u001b[0m\u001b[0;34m\u001b[0m\u001b[0m\n\u001b[0m\u001b[1;32m      5\u001b[0m     \u001b[0mplt\u001b[0m\u001b[0;34m.\u001b[0m\u001b[0mplot\u001b[0m\u001b[0;34m(\u001b[0m\u001b[0mkvals\u001b[0m\u001b[0;34m,\u001b[0m \u001b[0memu\u001b[0m\u001b[0;34m,\u001b[0m \u001b[0;34m'--'\u001b[0m\u001b[0;34m,\u001b[0m \u001b[0mlabel\u001b[0m\u001b[0;34m=\u001b[0m\u001b[0;34m'f4 emu'\u001b[0m\u001b[0;34m)\u001b[0m\u001b[0;34m\u001b[0m\u001b[0;34m\u001b[0m\u001b[0m\n\u001b[1;32m      6\u001b[0m     \u001b[0mplt\u001b[0m\u001b[0;34m.\u001b[0m\u001b[0mplot\u001b[0m\u001b[0;34m(\u001b[0m\u001b[0mnbody_pk\u001b[0m\u001b[0;34m[\u001b[0m\u001b[0msnap_id\u001b[0m\u001b[0;34m,\u001b[0m \u001b[0;34m:\u001b[0m\u001b[0;34m,\u001b[0m\u001b[0;36m0\u001b[0m\u001b[0;34m]\u001b[0m\u001b[0;34m,\u001b[0m \u001b[0mnbody_pk\u001b[0m\u001b[0;34m[\u001b[0m\u001b[0msnap_id\u001b[0m\u001b[0;34m,\u001b[0m \u001b[0;34m:\u001b[0m\u001b[0;34m,\u001b[0m \u001b[0;36m1\u001b[0m\u001b[0;34m]\u001b[0m\u001b[0;34m,\u001b[0m \u001b[0mlabel\u001b[0m\u001b[0;34m=\u001b[0m\u001b[0;34m'f4 nbody at z=%0.3f'\u001b[0m\u001b[0;34m%\u001b[0m\u001b[0mz_array\u001b[0m\u001b[0;34m[\u001b[0m\u001b[0msnap_id\u001b[0m\u001b[0;34m]\u001b[0m\u001b[0;34m,\u001b[0m \u001b[0mcolor\u001b[0m\u001b[0;34m=\u001b[0m\u001b[0mplt\u001b[0m\u001b[0;34m.\u001b[0m\u001b[0mgca\u001b[0m\u001b[0;34m(\u001b[0m\u001b[0;34m)\u001b[0m\u001b[0;34m.\u001b[0m\u001b[0mlines\u001b[0m\u001b[0;34m[\u001b[0m\u001b[0;34m-\u001b[0m\u001b[0;36m1\u001b[0m\u001b[0;34m]\u001b[0m\u001b[0;34m.\u001b[0m\u001b[0mget_color\u001b[0m\u001b[0;34m(\u001b[0m\u001b[0;34m)\u001b[0m\u001b[0;34m)\u001b[0m\u001b[0;34m\u001b[0m\u001b[0;34m\u001b[0m\u001b[0m\n",
      "\u001b[0;31mIndexError\u001b[0m: list index out of range"
     ]
    }
   ],
   "source": [
    "plt.figure(1)\n",
    "snap_id_array = [6, 7, 8] #range(8)\n",
    "for snap_id in snap_id_array:\n",
    "    emu = MGemu(Om=Om_f, ns=ns_f, s8=s8_f, fR0=fr0_f4, n=n_f, z=z_array[snap_id])\n",
    "    plt.plot(kvals, emu, '--', label='f4 emu')\n",
    "    plt.plot(nbody_pk[snap_id, :,0], nbody_pk[snap_id, :, 1], label='f4 nbody at z=%0.3f'%z_array[snap_id], color=plt.gca().lines[-1].get_color())\n",
    "plt.xscale('log')\n",
    "plt.title('F4')\n",
    "plt.legend()\n",
    "plt.show()"
   ]
  },
  {
   "cell_type": "code",
   "execution_count": null,
   "metadata": {},
   "outputs": [],
   "source": [
    "plt.figure(2)\n",
    "for snap_id in range(8)[1::2]:\n",
    "    emu = MGemu(Om=Om_f, ns=ns_f, s8=s8_f, fR0=fr0_f5, n=n_f, z=z_array[snap_id])\n",
    "    plt.plot(kvals, emu, '--', label='emu')\n",
    "    plt.plot(nbody_pk[snap_id, :,0], nbody_pk[snap_id, :, 2], label='nbody at z=%0.3f'%z_array[snap_id], color=plt.gca().lines[-1].get_color())\n",
    "plt.xscale('log')\n",
    "plt.title('F5')\n",
    "plt.legend()\n",
    "plt.show()"
   ]
  },
  {
   "cell_type": "code",
   "execution_count": null,
   "metadata": {},
   "outputs": [],
   "source": [
    "plt.figure(3)\n",
    "for snap_id in range(8)[1::2]:\n",
    "    emu = MGemu(Om=Om_f, ns=ns_f, s8=s8_f, fR0=fr0_f6, n=n_f, z=z_array[snap_id])\n",
    "    plt.plot(kvals, emu, '--', label='emu')\n",
    "    plt.plot(nbody_pk[snap_id, :,0], nbody_pk[snap_id, :, 3], label='nbody at z=%0.3f'%z_array[snap_id], color=plt.gca().lines[-1].get_color())\n",
    "plt.xscale('log')\n",
    "plt.title('F6')\n",
    "plt.legend()\n",
    "plt.show()"
   ]
  },
  {
   "cell_type": "code",
   "execution_count": null,
   "metadata": {},
   "outputs": [],
   "source": []
  }
 ],
 "metadata": {
  "anaconda-cloud": {},
  "kernelspec": {
   "display_name": "Python 3.7.5 64-bit",
   "language": "python",
   "name": "python37564bitce3244333c914215a448a19ac9208534"
  },
  "language_info": {
   "codemirror_mode": {
    "name": "ipython",
    "version": 3
   },
   "file_extension": ".py",
   "mimetype": "text/x-python",
   "name": "python",
   "nbconvert_exporter": "python",
   "pygments_lexer": "ipython3",
   "version": "3.7.5-final"
  }
 },
 "nbformat": 4,
 "nbformat_minor": 2
}