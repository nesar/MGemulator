{
 "cells": [
  {
   "cell_type": "code",
   "execution_count": 10,
   "metadata": {},
   "outputs": [],
   "source": [
    "import numpy as np  \n",
    "import pickle\n",
    "from sklearn.decomposition import PCA\n",
    "import gpflow"
   ]
  },
  {
   "cell_type": "code",
   "execution_count": 11,
   "metadata": {},
   "outputs": [],
   "source": [
    "def modelLoad(nRankMax, snap_ID):\n",
    "    GPmodel = modelDir + 'GP_smooth_rank' + str(nRankMax) + 'snap' + str(snap_ID)  \n",
    "    PCAmodel = modelDir + 'PCA_smooth_rank' + str(nRankMax) + 'snap' + str(snap_ID)  \n",
    "\n",
    "    ctx_for_loading = gpflow.saver.SaverContext(autocompile=False)\n",
    "    saver = gpflow.saver.Saver()\n",
    "    GPm = saver.load(GPmodel, context=ctx_for_loading)\n",
    "    GPm.clear()\n",
    "    GPm.compile()\n",
    "    PCAm = pickle.load(open(PCAmodel, 'rb'))\n",
    "    return GPm, PCAm\n",
    "\n",
    "def GPy_predict(gpmodel, para_array):\n",
    "    m1p = gpmodel.predict_f(para_array)  # [0] is the mean and [1] the predictive\n",
    "    W_predArray = m1p[0]\n",
    "    W_varArray = m1p[1]\n",
    "    return W_predArray, W_varArray\n",
    "\n",
    "\n",
    "def Emu(gpmodel, pcamodel, para_array):\n",
    "    para_array = np.array(para_array)\n",
    "    if len(para_array.shape) == 1:\n",
    "        W_predArray, _ = GPy_predict(gpmodel, np.expand_dims(para_array, axis=0))\n",
    "        x_decoded = pcamodel.inverse_transform(W_predArray)\n",
    "        return np.squeeze(x_decoded)#[0]\n",
    "\n",
    "def MGemu(Om, ns, s8, fR0, n, z):\n",
    "    snap_idx_nearest = (np.abs(z_all - z)).argmin()\n",
    "    if (z > z_all[snap_idx_nearest]): \n",
    "        snap_ID_z1 = snap_idx_nearest - 1    \n",
    "    else:\n",
    "        snap_ID_z1 = snap_idx_nearest \n",
    "    snap_ID_z2 = snap_ID_z1 + 1\n",
    "\n",
    "    GPm1, PCAm1 = modelLoad(nRankMax, snap_ID_z1)\n",
    "    Pk_z1 = Emu(GPm1, PCAm1, [Om, ns, s8, fR0, n])\n",
    "    z1 = z_all[snap_ID_z1]\n",
    "\n",
    "    GPm2, PCAm2 = modelLoad(nRankMax, snap_ID_z2)\n",
    "    Pk_z2 = Emu(GPm2, PCAm2, [Om, ns, s8, fR0, n])\n",
    "    z2 = z_all[snap_ID_z2]\n",
    "    \n",
    "    # print('Linear interpolating for redshift between', 'z1= '+ str(z_all[snap_ID_z1]), 'z2= '+ str(z_all[snap_ID_z2]))\n",
    "    Pk_interp = np.zeros_like(Pk_z1)\n",
    "    Pk_interp = Pk_z2 + (Pk_z1 - Pk_z2)*(z - z2)/(z1 - z2)\n",
    "    return Pk_interp\n"
   ]
  },
  {
   "cell_type": "code",
   "execution_count": 12,
   "metadata": {},
   "outputs": [],
   "source": [
    "nRankMax = 16\n",
    "snap_ID = 61\n",
    "del_idx = [5, 25, 4, 42]  ## Random holdouts (not used in training, reserved for validation) \n",
    "\n",
    "\n",
    "dataDir = \"./Data/Emulator213bins/\" ## Data folder\n",
    "modelDir = \"./Models/\" ## Data folder\n",
    "\n",
    "az = np.loadtxt(dataDir + 'timestepsCOLA.txt', skiprows=1) \n",
    "fileIn = dataDir + 'ratiosbins_' + str(99) + '.txt'\n",
    "\n",
    "loadFile = np.loadtxt(fileIn)\n",
    "PmPl_all = loadFile[:, 1:].T\n",
    "kvals = loadFile[:,0]\n",
    "z_all = az[:, 1]"
   ]
  },
  {
   "cell_type": "code",
   "execution_count": 14,
   "metadata": {},
   "outputs": [
    {
     "name": "stderr",
     "output_type": "stream",
     "text": "/Users/nramachandra/anaconda3/envs/env_py37/lib/python3.7/site-packages/gpflow/saver/serializers.py:46: H5pyDeprecationWarning: The default file mode will change to 'r' (read-only) in h5py 3.0. To suppress this warning, pass the mode you need to h5py.File(), or set the global default h5.get_config().default_file_mode, or set the environment variable H5PY_DEFAULT_READONLY=1. Available modes are: 'r', 'r+', 'w', 'w-'/'x', 'a'. See the docs for details.\n  with h5py.File(pathname_or_file_like) as h5file:\n/Users/nramachandra/anaconda3/envs/env_py37/lib/python3.7/site-packages/gpflow/saver/serializers.py:47: H5pyDeprecationWarning: dataset.value has been deprecated. Use dataset[()] instead.\n  return h5file['data'].value\n"
    },
    {
     "data": {
      "text/plain": "array([1.00765992, 1.0088824 , 1.01002134, 1.01108021, 1.01206245,\n       1.01297153, 1.01381092, 1.01458407, 1.01529445, 1.0159455 ,\n       1.0165407 , 1.01708351, 1.01757737, 1.01802576, 1.01843214,\n       1.01879996, 1.01913268, 1.01943377, 1.01970668, 1.01995488,\n       1.02018183, 1.02039098, 1.02058579, 1.02076973, 1.02094626,\n       1.02111884, 1.02129125, 1.02150745, 1.02190258, 1.0220049 ,\n       1.02213614, 1.02265642, 1.02318918, 1.02374871, 1.02414526,\n       1.0245813 , 1.02509907, 1.02547093, 1.02556506, 1.02597648,\n       1.02647479, 1.026804  , 1.02729316, 1.02764825, 1.02811849,\n       1.02850589, 1.02907893, 1.02969218, 1.03000498, 1.03045773,\n       1.03088826, 1.03137245, 1.03159913, 1.03192888, 1.0326679 ,\n       1.03297599, 1.03383508, 1.03471794, 1.03555367, 1.03604795,\n       1.03660514, 1.03718702, 1.03782189, 1.03836419, 1.03910928,\n       1.03965976, 1.04029974, 1.04107061, 1.04189555, 1.04248605,\n       1.04316053, 1.04393349, 1.04459205, 1.04528369, 1.04617098,\n       1.0468017 , 1.04772473, 1.04857211, 1.04933914, 1.05003475,\n       1.05089384, 1.05199563, 1.05280721, 1.05362521, 1.05436102,\n       1.05495446, 1.05589128, 1.05650774, 1.05712551, 1.0583309 ,\n       1.05903931, 1.05967563, 1.06041346, 1.06099016, 1.0616975 ,\n       1.06239407, 1.06323158, 1.06374676, 1.0643588 , 1.06541691,\n       1.06626532, 1.06724034, 1.06796027, 1.06912891, 1.07001557,\n       1.07075501, 1.07175674, 1.07259491, 1.07344422, 1.07397267,\n       1.0752943 , 1.07631149, 1.07735297, 1.07831246, 1.07934852,\n       1.08048967, 1.08153077, 1.08260159, 1.08362066, 1.08478117,\n       1.08625787, 1.08730867, 1.08881395, 1.09037643, 1.09201696,\n       1.09341354, 1.09497945, 1.09696675, 1.09876017, 1.1005948 ,\n       1.10221178, 1.10427049, 1.10621197, 1.10867326, 1.11098575,\n       1.11334296, 1.11594914, 1.11830869, 1.12089318, 1.12376577,\n       1.12658549, 1.12943948, 1.13219312, 1.13539733, 1.13882053,\n       1.14255091, 1.14612324, 1.14995794, 1.15421394, 1.15847603,\n       1.16314163, 1.16763235, 1.1726259 , 1.17759355, 1.18243016,\n       1.18761454, 1.19289891, 1.19841513, 1.2040596 , 1.20962913,\n       1.2157805 , 1.22125717, 1.22733775, 1.23354094, 1.24002299,\n       1.24623679, 1.25249574, 1.25841773, 1.26470533, 1.27087603,\n       1.27700622, 1.28265359, 1.28856822, 1.29416875, 1.2995272 ,\n       1.30463644, 1.31007271, 1.31497819, 1.31938392, 1.32352206,\n       1.32722449, 1.33158532, 1.33526271, 1.33917167, 1.34175364,\n       1.3441378 , 1.34621564, 1.34817578, 1.34995125, 1.35157058,\n       1.35304607, 1.35439001, 1.35561469, 1.35673239, 1.35775542,\n       1.35869606, 1.35956661, 1.36037935, 1.36114658, 1.36188058,\n       1.36259366, 1.36329809, 1.36400618, 1.36473021, 1.36548248,\n       1.36627527, 1.36712088, 1.3680316 , 1.36901971, 1.37009752,\n       1.37127731, 1.37257137, 1.373992  ])"
     },
     "execution_count": 14,
     "metadata": {},
     "output_type": "execute_result"
    }
   ],
   "source": [
    "Om, ns, s8, fR0, n = 0.1, 1.0, 0.8, 3e-5, 1.5\n",
    "\n",
    "MGemu(Om=0.1, ns=1.0, s8=0.8, fR0=3e-5, n=1.5, z=0.02)"
   ]
  },
  {
   "cell_type": "code",
   "execution_count": null,
   "metadata": {},
   "outputs": [],
   "source": []
  }
 ],
 "metadata": {
  "anaconda-cloud": {},
  "kernelspec": {
   "display_name": "Python 3.7.5 64-bit ('env_py37': conda)",
   "language": "python",
   "name": "python37564bitenvpy37conda17150a11545f4ac4a3ea6d7b215219bc"
  },
  "language_info": {
   "codemirror_mode": {
    "name": "ipython",
    "version": 3
   },
   "file_extension": ".py",
   "mimetype": "text/x-python",
   "name": "python",
   "nbconvert_exporter": "python",
   "pygments_lexer": "ipython3",
   "version": "3.7.5-final"
  }
 },
 "nbformat": 4,
 "nbformat_minor": 2
}