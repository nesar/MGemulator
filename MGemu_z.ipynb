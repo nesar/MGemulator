{
 "cells": [
  {
   "cell_type": "code",
   "execution_count": 5,
   "metadata": {},
   "outputs": [],
   "source": [
    "import numpy as np  \n",
    "import matplotlib.pylab as plt\n",
    "import time\n",
    "import pickle\n",
    "import os\n",
    "from sklearn.decomposition import PCA\n",
    "import matplotlib.ticker as ticker\n",
    "import gpflow\n",
    "\n",
    "from matplotlib import gridspec\n"
   ]
  },
  {
   "cell_type": "code",
   "execution_count": 6,
   "metadata": {},
   "outputs": [],
   "source": [
    "def modelLoad(nRankMax, snap_ID):\n",
    "    GPmodel = modelDir + 'GP_smooth_rank' + str(nRankMax) + 'snap' + str(snap_ID)  \n",
    "    PCAmodel = modelDir + 'PCA_smooth_rank' + str(nRankMax) + 'snap' + str(snap_ID)  \n",
    "\n",
    "    ctx_for_loading = gpflow.saver.SaverContext(autocompile=False)\n",
    "    saver = gpflow.saver.Saver()\n",
    "    GPm = saver.load(GPmodel, context=ctx_for_loading)\n",
    "    GPm.clear()\n",
    "    GPm.compile()\n",
    "    PCAm = pickle.load(open(PCAmodel, 'rb'))\n",
    "    return GPm, PCAm\n",
    "\n",
    "def GPy_predict(gpmodel, para_array):\n",
    "    m1p = gpmodel.predict_f(para_array)  # [0] is the mean and [1] the predictive\n",
    "    W_predArray = m1p[0]\n",
    "    W_varArray = m1p[1]\n",
    "    return W_predArray, W_varArray\n",
    "\n",
    "\n",
    "def Emu(gpmodel, pcamodel, para_array):\n",
    "    para_array = np.array(para_array)\n",
    "    if len(para_array.shape) == 1:\n",
    "        W_predArray, _ = GPy_predict(gpmodel, np.expand_dims(para_array, axis=0))\n",
    "        x_decoded = pcamodel.inverse_transform(W_predArray)\n",
    "        return np.squeeze(x_decoded)#[0]\n",
    "\n",
    "def MGemu(Om, ns, s8, fR0, n, z):\n",
    "    snap_idx_nearest = (np.abs(z_all - z)).argmin()\n",
    "    if (z > z_all[snap_idx_nearest]): \n",
    "        snap_ID_z1 = snap_idx_nearest - 1    \n",
    "    else:\n",
    "        snap_ID_z1 = snap_idx_nearest \n",
    "    snap_ID_z2 = snap_ID_z1 + 1\n",
    "\n",
    "    GPm1, PCAm1 = modelLoad(nRankMax, snap_ID_z1)\n",
    "    Pk_z1 = Emu(GPm1, PCAm1, [Om, ns, s8, fR0, n])\n",
    "    z1 = z_all[snap_ID_z1]\n",
    "\n",
    "    GPm2, PCAm2 = modelLoad(nRankMax, snap_ID_z2)\n",
    "    Pk_z2 = Emu(GPm2, PCAm2, [Om, ns, s8, fR0, n])\n",
    "    z2 = z_all[snap_ID_z2]\n",
    "    \n",
    "    # print('Linear interpolating for redshift between', 'z1= '+ str(z_all[snap_ID_z1]), 'z2= '+ str(z_all[snap_ID_z2]))\n",
    "    Pk_interp = np.zeros_like(Pk_z1)\n",
    "    Pk_interp = Pk_z2 + (Pk_z1 - Pk_z2)*(z - z2)/(z1 - z2)\n",
    "\n",
    "    \n",
    "    return Pk_interp\n"
   ]
  },
  {
   "cell_type": "code",
   "execution_count": 7,
   "metadata": {},
   "outputs": [],
   "source": [
    "nRankMax = 16\n",
    "snap_ID = 61\n",
    "del_idx = [5, 25, 4, 42]  ## Random holdouts (not used in training, reserved for validation) \n",
    "\n",
    "\n",
    "dataDir = \"./Data/\" ## Data folder\n",
    "modelDir = \"./Models/\" ## Data folder\n",
    "plotsDir = \"./Plots/allPlots/\" ## Data folder\n",
    "\n",
    "az = np.loadtxt(dataDir + 'Emulator213bins/timestepsCOLA.txt', skiprows=1) \n",
    "fileIn = dataDir + 'Emulator213bins/ratiosbins_' + str(99) + '.txt'\n",
    "\n",
    "loadFile = np.loadtxt(fileIn)\n",
    "PmPl_all = loadFile[:, 1:].T\n",
    "kvals = loadFile[:,0]\n",
    "z_all = az[:, 1]"
   ]
  },
  {
   "cell_type": "code",
   "execution_count": 9,
   "metadata": {},
   "outputs": [
    {
     "data": {
      "text/plain": "array([0.031215, 0.044252, 0.054388, 0.062735, 0.070104, 0.077104,\n       0.088938, 0.094765, 0.099384, 0.104228, 0.109309, 0.112833,\n       0.118333, 0.126085, 0.13015 , 0.134346, 0.136494, 0.140894,\n       0.143147, 0.147762, 0.154964, 0.157442, 0.15996 , 0.162518,\n       0.17044 , 0.173165, 0.178747, 0.181606, 0.18451 , 0.18746 ,\n       0.190458, 0.193504, 0.199742, 0.202936, 0.206181, 0.209478,\n       0.212828, 0.216231, 0.219689, 0.223202, 0.226771, 0.230397,\n       0.234081, 0.237825, 0.241628, 0.245491, 0.249417, 0.253405,\n       0.257458, 0.261575, 0.265757, 0.270007, 0.274325, 0.278712,\n       0.283168, 0.287697, 0.292297, 0.296971, 0.30172 , 0.306545,\n       0.311447, 0.316427, 0.321487, 0.326628, 0.331851, 0.337157,\n       0.342549, 0.348027, 0.353592, 0.359246, 0.364991, 0.370827,\n       0.376757, 0.382782, 0.388903, 0.395122, 0.40144 , 0.40786 ,\n       0.414382, 0.421008, 0.42774 , 0.43458 , 0.44153 , 0.44859 ,\n       0.455763, 0.463051, 0.470456, 0.477979, 0.485622, 0.493388,\n       0.501278, 0.509294, 0.517438, 0.525712, 0.534119, 0.54266 ,\n       0.551337, 0.560154, 0.569111, 0.578211, 0.587458, 0.596852,\n       0.606396, 0.616093, 0.625945, 0.635954, 0.646123, 0.656456,\n       0.666953, 0.677618, 0.688454, 0.699463, 0.710648, 0.722012,\n       0.733557, 0.745288, 0.757205, 0.769314, 0.781616, 0.794115,\n       0.806813, 0.819715, 0.832823, 0.84614 , 0.859671, 0.873418,\n       0.887385, 0.901575, 0.915992, 0.930639, 0.945521, 0.960641,\n       0.976002, 0.99161 , 1.007466, 1.023577, 1.039945, 1.056574,\n       1.07347 , 1.090636, 1.108076, 1.125795, 1.143798, 1.162088,\n       1.180671, 1.199551, 1.218732, 1.238221, 1.258021, 1.278138,\n       1.298577, 1.319342, 1.34044 , 1.361875, 1.383652, 1.405778,\n       1.428258, 1.451097, 1.474301, 1.497877, 1.521829, 1.546165,\n       1.570889, 1.596009, 1.621531, 1.647461, 1.673805, 1.700571,\n       1.727764, 1.755393, 1.783463, 1.811982, 1.840957, 1.870396,\n       1.900305, 1.930693, 1.961566, 1.992934, 2.024803, 2.057181,\n       2.090077, 2.1235  , 2.157456, 2.191956, 2.227007, 2.262619,\n       2.2988  , 2.33556 , 2.372908, 2.410853, 2.449404, 2.488573,\n       2.528368, 2.568799, 2.609877, 2.651611, 2.694012, 2.737092,\n       2.78086 , 2.825329, 2.870508, 2.91641 , 2.963046, 3.010428,\n       3.058568, 3.107477, 3.157168, 3.207654, 3.258947, 3.311061,\n       3.364009, 3.417802, 3.472456])"
     },
     "execution_count": 9,
     "metadata": {},
     "output_type": "execute_result"
    }
   ],
   "source": [
    "kvals"
   ]
  },
  {
   "cell_type": "code",
   "execution_count": 8,
   "metadata": {},
   "outputs": [
    {
     "name": "stdout",
     "output_type": "stream",
     "text": "WARNING:tensorflow:From /Users/nramachandra/anaconda3/envs/env_py37/lib/python3.7/site-packages/gpflow/core/node.py:125: The name tf.get_default_session is deprecated. Please use tf.compat.v1.get_default_session instead.\n\n/Users/nramachandra/anaconda3/envs/env_py37/lib/python3.7/site-packages/gpflow/saver/serializers.py:46: H5pyDeprecationWarning: The default file mode will change to 'r' (read-only) in h5py 3.0. To suppress this warning, pass the mode you need to h5py.File(), or set the global default h5.get_config().default_file_mode, or set the environment variable H5PY_DEFAULT_READONLY=1. Available modes are: 'r', 'r+', 'w', 'w-'/'x', 'a'. See the docs for details.\n  with h5py.File(pathname_or_file_like) as h5file:\n/Users/nramachandra/anaconda3/envs/env_py37/lib/python3.7/site-packages/gpflow/saver/serializers.py:47: H5pyDeprecationWarning: dataset.value has been deprecated. Use dataset[()] instead.\n  return h5file['data'].value\nWARNING:tensorflow:From /Users/nramachandra/anaconda3/envs/env_py37/lib/python3.7/site-packages/gpflow/core/node.py:125: The name tf.get_default_session is deprecated. Please use tf.compat.v1.get_default_session instead.\n\nWARNING:tensorflow:From /Users/nramachandra/anaconda3/envs/env_py37/lib/python3.7/site-packages/gpflow/session_manager.py:111: The name tf.ConfigProto is deprecated. Please use tf.compat.v1.ConfigProto instead.\n\nWARNING:tensorflow:From /Users/nramachandra/anaconda3/envs/env_py37/lib/python3.7/site-packages/gpflow/session_manager.py:111: The name tf.ConfigProto is deprecated. Please use tf.compat.v1.ConfigProto instead.\n\nWARNING:tensorflow:From /Users/nramachandra/anaconda3/envs/env_py37/lib/python3.7/site-packages/gpflow/core/node.py:109: The name tf.get_default_graph is deprecated. Please use tf.compat.v1.get_default_graph instead.\n\nWARNING:tensorflow:From /Users/nramachandra/anaconda3/envs/env_py37/lib/python3.7/site-packages/gpflow/core/node.py:109: The name tf.get_default_graph is deprecated. Please use tf.compat.v1.get_default_graph instead.\n\nWARNING:tensorflow:From /Users/nramachandra/anaconda3/envs/env_py37/lib/python3.7/site-packages/tensorflow/python/ops/math_ops.py:3743: add_dispatch_support.<locals>.wrapper (from tensorflow.python.ops.array_ops) is deprecated and will be removed in a future version.\nInstructions for updating:\nUse tf.where in 2.0, which has the same broadcast rule as np.where\nWARNING:tensorflow:From /Users/nramachandra/anaconda3/envs/env_py37/lib/python3.7/site-packages/tensorflow/python/ops/math_ops.py:3743: add_dispatch_support.<locals>.wrapper (from tensorflow.python.ops.array_ops) is deprecated and will be removed in a future version.\nInstructions for updating:\nUse tf.where in 2.0, which has the same broadcast rule as np.where\nWARNING:tensorflow:From /Users/nramachandra/anaconda3/envs/env_py37/lib/python3.7/site-packages/tensorflow/python/ops/math_ops.py:3744: setdiff1d (from tensorflow.python.ops.array_ops) is deprecated and will be removed after 2018-11-30.\nInstructions for updating:\nThis op will be removed after the deprecation date. Please switch to tf.sets.difference().\nWARNING:tensorflow:From /Users/nramachandra/anaconda3/envs/env_py37/lib/python3.7/site-packages/tensorflow/python/ops/math_ops.py:3744: setdiff1d (from tensorflow.python.ops.array_ops) is deprecated and will be removed after 2018-11-30.\nInstructions for updating:\nThis op will be removed after the deprecation date. Please switch to tf.sets.difference().\n"
    },
    {
     "data": {
      "text/plain": "array([1.00765992, 1.0088824 , 1.01002134, 1.01108021, 1.01206245,\n       1.01297153, 1.01381092, 1.01458407, 1.01529445, 1.0159455 ,\n       1.0165407 , 1.01708351, 1.01757737, 1.01802576, 1.01843214,\n       1.01879996, 1.01913268, 1.01943377, 1.01970668, 1.01995488,\n       1.02018183, 1.02039098, 1.02058579, 1.02076973, 1.02094626,\n       1.02111884, 1.02129125, 1.02150745, 1.02190258, 1.0220049 ,\n       1.02213614, 1.02265642, 1.02318918, 1.02374871, 1.02414526,\n       1.0245813 , 1.02509907, 1.02547093, 1.02556506, 1.02597648,\n       1.02647479, 1.026804  , 1.02729316, 1.02764825, 1.02811849,\n       1.02850589, 1.02907893, 1.02969218, 1.03000498, 1.03045773,\n       1.03088826, 1.03137245, 1.03159913, 1.03192888, 1.0326679 ,\n       1.03297599, 1.03383508, 1.03471794, 1.03555367, 1.03604795,\n       1.03660514, 1.03718702, 1.03782189, 1.03836419, 1.03910928,\n       1.03965976, 1.04029974, 1.04107061, 1.04189555, 1.04248605,\n       1.04316053, 1.04393349, 1.04459205, 1.04528369, 1.04617098,\n       1.0468017 , 1.04772473, 1.04857211, 1.04933914, 1.05003475,\n       1.05089384, 1.05199563, 1.05280721, 1.05362521, 1.05436102,\n       1.05495446, 1.05589128, 1.05650774, 1.05712551, 1.0583309 ,\n       1.05903931, 1.05967563, 1.06041346, 1.06099016, 1.0616975 ,\n       1.06239407, 1.06323158, 1.06374676, 1.0643588 , 1.06541691,\n       1.06626532, 1.06724034, 1.06796027, 1.06912891, 1.07001557,\n       1.07075501, 1.07175674, 1.07259491, 1.07344422, 1.07397267,\n       1.0752943 , 1.07631149, 1.07735297, 1.07831246, 1.07934852,\n       1.08048967, 1.08153077, 1.08260159, 1.08362066, 1.08478117,\n       1.08625787, 1.08730867, 1.08881395, 1.09037643, 1.09201696,\n       1.09341354, 1.09497945, 1.09696675, 1.09876017, 1.1005948 ,\n       1.10221178, 1.10427049, 1.10621197, 1.10867326, 1.11098575,\n       1.11334296, 1.11594914, 1.11830869, 1.12089318, 1.12376577,\n       1.12658549, 1.12943948, 1.13219312, 1.13539733, 1.13882053,\n       1.14255091, 1.14612324, 1.14995794, 1.15421394, 1.15847603,\n       1.16314163, 1.16763235, 1.1726259 , 1.17759355, 1.18243016,\n       1.18761454, 1.19289891, 1.19841513, 1.2040596 , 1.20962913,\n       1.2157805 , 1.22125717, 1.22733775, 1.23354094, 1.24002299,\n       1.24623679, 1.25249574, 1.25841773, 1.26470533, 1.27087603,\n       1.27700622, 1.28265359, 1.28856822, 1.29416875, 1.2995272 ,\n       1.30463644, 1.31007271, 1.31497819, 1.31938392, 1.32352206,\n       1.32722449, 1.33158532, 1.33526271, 1.33917167, 1.34175364,\n       1.3441378 , 1.34621564, 1.34817578, 1.34995125, 1.35157058,\n       1.35304607, 1.35439001, 1.35561469, 1.35673239, 1.35775542,\n       1.35869606, 1.35956661, 1.36037935, 1.36114658, 1.36188058,\n       1.36259366, 1.36329809, 1.36400618, 1.36473021, 1.36548248,\n       1.36627527, 1.36712088, 1.3680316 , 1.36901971, 1.37009752,\n       1.37127731, 1.37257137, 1.373992  ])"
     },
     "execution_count": 8,
     "metadata": {},
     "output_type": "execute_result"
    }
   ],
   "source": [
    "Om, ns, s8, fR0, n = 0.1, 1.0, 0.8, 3e-5, 1.5\n",
    "\n",
    "MGemu(Om=0.1, ns=1.0, s8=0.8, fR0=3e-5, n=1.5, z=0.02)"
   ]
  }
 ],
 "metadata": {
  "anaconda-cloud": {},
  "kernelspec": {
   "display_name": "Python 3.7.5 64-bit ('env_py37': conda)",
   "language": "python",
   "name": "python37564bitenvpy37conda17150a11545f4ac4a3ea6d7b215219bc"
  },
  "language_info": {
   "codemirror_mode": {
    "name": "ipython",
    "version": 3
   },
   "file_extension": ".py",
   "mimetype": "text/x-python",
   "name": "python",
   "nbconvert_exporter": "python",
   "pygments_lexer": "ipython3",
   "version": "3.7.5-final"
  }
 },
 "nbformat": 4,
 "nbformat_minor": 2
}